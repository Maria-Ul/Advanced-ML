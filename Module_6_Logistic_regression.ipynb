{
  "nbformat": 4,
  "nbformat_minor": 0,
  "metadata": {
    "colab": {
      "provenance": [],
      "authorship_tag": "ABX9TyNNRFT16N3g8o9xP8zuQ4iE",
      "include_colab_link": true
    },
    "kernelspec": {
      "name": "python3",
      "display_name": "Python 3"
    },
    "language_info": {
      "name": "python"
    }
  },
  "cells": [
    {
      "cell_type": "markdown",
      "metadata": {
        "id": "view-in-github",
        "colab_type": "text"
      },
      "source": [
        "<a href=\"https://colab.research.google.com/github/Maria-Ul/Advanced-ML/blob/main/Module_6_Logistic_regression.ipynb\" target=\"_parent\"><img src=\"https://colab.research.google.com/assets/colab-badge.svg\" alt=\"Open In Colab\"/></a>"
      ]
    },
    {
      "cell_type": "code",
      "execution_count": null,
      "metadata": {
        "colab": {
          "base_uri": "https://localhost:8080/"
        },
        "id": "73KwprrctipV",
        "outputId": "21a9d234-d9c3-4d1c-912c-ae0f41a16227"
      },
      "outputs": [
        {
          "output_type": "execute_result",
          "data": {
            "text/plain": [
              "0.623"
            ]
          },
          "metadata": {},
          "execution_count": 3
        }
      ],
      "source": [
        "import math\n",
        "t0 = -0.046\n",
        "t1 = 0.541\n",
        "t2 = -0.014\n",
        "t3 = -0.132\n",
        "z3 = 8\n",
        "z1 = 4\n",
        "z2 = 40\n",
        "psi = t0+t1*z1+t2*z2+t3*z3\n",
        "pplus = 1/(1+math.exp(-psi))\n",
        "round(pplus,3)"
      ]
    },
    {
      "cell_type": "markdown",
      "source": [
        "гиперплоскость"
      ],
      "metadata": {
        "id": "I8XQk6z0IWxb"
      }
    },
    {
      "cell_type": "code",
      "source": [
        "# 0 = a+bx1+cx2\n",
        "a = -2.992\n",
        "b =0.24\n",
        "c = 1.102\n",
        "x21 = 0\n",
        "x11= -a/b\n",
        "x22 = 1\n",
        "x12 = -(a+c)/b"
      ],
      "metadata": {
        "id": "GZ2fX927uiBw"
      },
      "execution_count": null,
      "outputs": []
    },
    {
      "cell_type": "code",
      "source": [
        "round(1/(1+math.exp(-a)),3)"
      ],
      "metadata": {
        "colab": {
          "base_uri": "https://localhost:8080/"
        },
        "id": "DDIAtJ04JqWW",
        "outputId": "c116c9d7-c20e-4be7-b658-147cf2f3bfea"
      },
      "execution_count": null,
      "outputs": [
        {
          "output_type": "execute_result",
          "data": {
            "text/plain": [
              "0.048"
            ]
          },
          "metadata": {},
          "execution_count": 8
        }
      ]
    },
    {
      "cell_type": "markdown",
      "source": [
        "Индивидуальное задание"
      ],
      "metadata": {
        "id": "HHe-MzwcS5sx"
      }
    },
    {
      "cell_type": "code",
      "source": [
        "import pandas as pd\n",
        "import numpy as np"
      ],
      "metadata": {
        "id": "ezf9hZguTQWQ"
      },
      "execution_count": null,
      "outputs": []
    },
    {
      "cell_type": "code",
      "source": [
        "data = pd.read_csv('/content/candy-data.csv', index_col = 'competitorname')"
      ],
      "metadata": {
        "id": "6fJEmIdxTWGU"
      },
      "execution_count": null,
      "outputs": []
    },
    {
      "cell_type": "code",
      "source": [
        "data"
      ],
      "metadata": {
        "colab": {
          "base_uri": "https://localhost:8080/",
          "height": 554
        },
        "id": "F98bV5IiTZyF",
        "outputId": "ab73ab9b-158a-47bf-fd2e-75580846c3ad"
      },
      "execution_count": null,
      "outputs": [
        {
          "output_type": "execute_result",
          "data": {
            "text/plain": [
              "                       chocolate  fruity  caramel  peanutyalmondy  nougat  \\\n",
              "competitorname                                                              \n",
              "100 Grand                      1       0        1               0       0   \n",
              "3 Musketeers                   1       0        0               0       1   \n",
              "One dime                       0       0        0               0       0   \n",
              "One quarter                    0       0        0               0       0   \n",
              "Air Heads                      0       1        0               0       0   \n",
              "...                          ...     ...      ...             ...     ...   \n",
              "Snickers Crisper               1       0        1               1       0   \n",
              "Sour Patch Kids                0       1        0               0       0   \n",
              "Sour Patch Tricksters          0       1        0               0       0   \n",
              "Starburst                      0       1        0               0       0   \n",
              "Strawberry bon bons            0       1        0               0       0   \n",
              "\n",
              "                       crispedricewafer  hard  bar  pluribus  sugarpercent  \\\n",
              "competitorname                                                               \n",
              "100 Grand                             1     0    1         0         0.732   \n",
              "3 Musketeers                          0     0    1         0         0.604   \n",
              "One dime                              0     0    0         0         0.011   \n",
              "One quarter                           0     0    0         0         0.011   \n",
              "Air Heads                             0     0    0         0         0.906   \n",
              "...                                 ...   ...  ...       ...           ...   \n",
              "Snickers Crisper                      1     0    1         0         0.604   \n",
              "Sour Patch Kids                       0     0    0         1         0.069   \n",
              "Sour Patch Tricksters                 0     0    0         1         0.069   \n",
              "Starburst                             0     0    0         1         0.151   \n",
              "Strawberry bon bons                   0     1    0         1         0.569   \n",
              "\n",
              "                       pricepercent  winpercent  Y  \n",
              "competitorname                                      \n",
              "100 Grand                     0.860   66.971725  1  \n",
              "3 Musketeers                  0.511   67.602936  1  \n",
              "One dime                      0.116   32.261086  0  \n",
              "One quarter                   0.511   46.116505  0  \n",
              "Air Heads                     0.511   52.341465  1  \n",
              "...                             ...         ... ..  \n",
              "Snickers Crisper              0.651   59.529251  1  \n",
              "Sour Patch Kids               0.116   59.863998  1  \n",
              "Sour Patch Tricksters         0.116   52.825947  1  \n",
              "Starburst                     0.220   67.037628  1  \n",
              "Strawberry bon bons           0.058   34.578991  0  \n",
              "\n",
              "[70 rows x 13 columns]"
            ],
            "text/html": [
              "\n",
              "  <div id=\"df-aeea3a06-1700-461d-ad0d-8964a88efab5\">\n",
              "    <div class=\"colab-df-container\">\n",
              "      <div>\n",
              "<style scoped>\n",
              "    .dataframe tbody tr th:only-of-type {\n",
              "        vertical-align: middle;\n",
              "    }\n",
              "\n",
              "    .dataframe tbody tr th {\n",
              "        vertical-align: top;\n",
              "    }\n",
              "\n",
              "    .dataframe thead th {\n",
              "        text-align: right;\n",
              "    }\n",
              "</style>\n",
              "<table border=\"1\" class=\"dataframe\">\n",
              "  <thead>\n",
              "    <tr style=\"text-align: right;\">\n",
              "      <th></th>\n",
              "      <th>chocolate</th>\n",
              "      <th>fruity</th>\n",
              "      <th>caramel</th>\n",
              "      <th>peanutyalmondy</th>\n",
              "      <th>nougat</th>\n",
              "      <th>crispedricewafer</th>\n",
              "      <th>hard</th>\n",
              "      <th>bar</th>\n",
              "      <th>pluribus</th>\n",
              "      <th>sugarpercent</th>\n",
              "      <th>pricepercent</th>\n",
              "      <th>winpercent</th>\n",
              "      <th>Y</th>\n",
              "    </tr>\n",
              "    <tr>\n",
              "      <th>competitorname</th>\n",
              "      <th></th>\n",
              "      <th></th>\n",
              "      <th></th>\n",
              "      <th></th>\n",
              "      <th></th>\n",
              "      <th></th>\n",
              "      <th></th>\n",
              "      <th></th>\n",
              "      <th></th>\n",
              "      <th></th>\n",
              "      <th></th>\n",
              "      <th></th>\n",
              "      <th></th>\n",
              "    </tr>\n",
              "  </thead>\n",
              "  <tbody>\n",
              "    <tr>\n",
              "      <th>100 Grand</th>\n",
              "      <td>1</td>\n",
              "      <td>0</td>\n",
              "      <td>1</td>\n",
              "      <td>0</td>\n",
              "      <td>0</td>\n",
              "      <td>1</td>\n",
              "      <td>0</td>\n",
              "      <td>1</td>\n",
              "      <td>0</td>\n",
              "      <td>0.732</td>\n",
              "      <td>0.860</td>\n",
              "      <td>66.971725</td>\n",
              "      <td>1</td>\n",
              "    </tr>\n",
              "    <tr>\n",
              "      <th>3 Musketeers</th>\n",
              "      <td>1</td>\n",
              "      <td>0</td>\n",
              "      <td>0</td>\n",
              "      <td>0</td>\n",
              "      <td>1</td>\n",
              "      <td>0</td>\n",
              "      <td>0</td>\n",
              "      <td>1</td>\n",
              "      <td>0</td>\n",
              "      <td>0.604</td>\n",
              "      <td>0.511</td>\n",
              "      <td>67.602936</td>\n",
              "      <td>1</td>\n",
              "    </tr>\n",
              "    <tr>\n",
              "      <th>One dime</th>\n",
              "      <td>0</td>\n",
              "      <td>0</td>\n",
              "      <td>0</td>\n",
              "      <td>0</td>\n",
              "      <td>0</td>\n",
              "      <td>0</td>\n",
              "      <td>0</td>\n",
              "      <td>0</td>\n",
              "      <td>0</td>\n",
              "      <td>0.011</td>\n",
              "      <td>0.116</td>\n",
              "      <td>32.261086</td>\n",
              "      <td>0</td>\n",
              "    </tr>\n",
              "    <tr>\n",
              "      <th>One quarter</th>\n",
              "      <td>0</td>\n",
              "      <td>0</td>\n",
              "      <td>0</td>\n",
              "      <td>0</td>\n",
              "      <td>0</td>\n",
              "      <td>0</td>\n",
              "      <td>0</td>\n",
              "      <td>0</td>\n",
              "      <td>0</td>\n",
              "      <td>0.011</td>\n",
              "      <td>0.511</td>\n",
              "      <td>46.116505</td>\n",
              "      <td>0</td>\n",
              "    </tr>\n",
              "    <tr>\n",
              "      <th>Air Heads</th>\n",
              "      <td>0</td>\n",
              "      <td>1</td>\n",
              "      <td>0</td>\n",
              "      <td>0</td>\n",
              "      <td>0</td>\n",
              "      <td>0</td>\n",
              "      <td>0</td>\n",
              "      <td>0</td>\n",
              "      <td>0</td>\n",
              "      <td>0.906</td>\n",
              "      <td>0.511</td>\n",
              "      <td>52.341465</td>\n",
              "      <td>1</td>\n",
              "    </tr>\n",
              "    <tr>\n",
              "      <th>...</th>\n",
              "      <td>...</td>\n",
              "      <td>...</td>\n",
              "      <td>...</td>\n",
              "      <td>...</td>\n",
              "      <td>...</td>\n",
              "      <td>...</td>\n",
              "      <td>...</td>\n",
              "      <td>...</td>\n",
              "      <td>...</td>\n",
              "      <td>...</td>\n",
              "      <td>...</td>\n",
              "      <td>...</td>\n",
              "      <td>...</td>\n",
              "    </tr>\n",
              "    <tr>\n",
              "      <th>Snickers Crisper</th>\n",
              "      <td>1</td>\n",
              "      <td>0</td>\n",
              "      <td>1</td>\n",
              "      <td>1</td>\n",
              "      <td>0</td>\n",
              "      <td>1</td>\n",
              "      <td>0</td>\n",
              "      <td>1</td>\n",
              "      <td>0</td>\n",
              "      <td>0.604</td>\n",
              "      <td>0.651</td>\n",
              "      <td>59.529251</td>\n",
              "      <td>1</td>\n",
              "    </tr>\n",
              "    <tr>\n",
              "      <th>Sour Patch Kids</th>\n",
              "      <td>0</td>\n",
              "      <td>1</td>\n",
              "      <td>0</td>\n",
              "      <td>0</td>\n",
              "      <td>0</td>\n",
              "      <td>0</td>\n",
              "      <td>0</td>\n",
              "      <td>0</td>\n",
              "      <td>1</td>\n",
              "      <td>0.069</td>\n",
              "      <td>0.116</td>\n",
              "      <td>59.863998</td>\n",
              "      <td>1</td>\n",
              "    </tr>\n",
              "    <tr>\n",
              "      <th>Sour Patch Tricksters</th>\n",
              "      <td>0</td>\n",
              "      <td>1</td>\n",
              "      <td>0</td>\n",
              "      <td>0</td>\n",
              "      <td>0</td>\n",
              "      <td>0</td>\n",
              "      <td>0</td>\n",
              "      <td>0</td>\n",
              "      <td>1</td>\n",
              "      <td>0.069</td>\n",
              "      <td>0.116</td>\n",
              "      <td>52.825947</td>\n",
              "      <td>1</td>\n",
              "    </tr>\n",
              "    <tr>\n",
              "      <th>Starburst</th>\n",
              "      <td>0</td>\n",
              "      <td>1</td>\n",
              "      <td>0</td>\n",
              "      <td>0</td>\n",
              "      <td>0</td>\n",
              "      <td>0</td>\n",
              "      <td>0</td>\n",
              "      <td>0</td>\n",
              "      <td>1</td>\n",
              "      <td>0.151</td>\n",
              "      <td>0.220</td>\n",
              "      <td>67.037628</td>\n",
              "      <td>1</td>\n",
              "    </tr>\n",
              "    <tr>\n",
              "      <th>Strawberry bon bons</th>\n",
              "      <td>0</td>\n",
              "      <td>1</td>\n",
              "      <td>0</td>\n",
              "      <td>0</td>\n",
              "      <td>0</td>\n",
              "      <td>0</td>\n",
              "      <td>1</td>\n",
              "      <td>0</td>\n",
              "      <td>1</td>\n",
              "      <td>0.569</td>\n",
              "      <td>0.058</td>\n",
              "      <td>34.578991</td>\n",
              "      <td>0</td>\n",
              "    </tr>\n",
              "  </tbody>\n",
              "</table>\n",
              "<p>70 rows × 13 columns</p>\n",
              "</div>\n",
              "      <button class=\"colab-df-convert\" onclick=\"convertToInteractive('df-aeea3a06-1700-461d-ad0d-8964a88efab5')\"\n",
              "              title=\"Convert this dataframe to an interactive table.\"\n",
              "              style=\"display:none;\">\n",
              "        \n",
              "  <svg xmlns=\"http://www.w3.org/2000/svg\" height=\"24px\"viewBox=\"0 0 24 24\"\n",
              "       width=\"24px\">\n",
              "    <path d=\"M0 0h24v24H0V0z\" fill=\"none\"/>\n",
              "    <path d=\"M18.56 5.44l.94 2.06.94-2.06 2.06-.94-2.06-.94-.94-2.06-.94 2.06-2.06.94zm-11 1L8.5 8.5l.94-2.06 2.06-.94-2.06-.94L8.5 2.5l-.94 2.06-2.06.94zm10 10l.94 2.06.94-2.06 2.06-.94-2.06-.94-.94-2.06-.94 2.06-2.06.94z\"/><path d=\"M17.41 7.96l-1.37-1.37c-.4-.4-.92-.59-1.43-.59-.52 0-1.04.2-1.43.59L10.3 9.45l-7.72 7.72c-.78.78-.78 2.05 0 2.83L4 21.41c.39.39.9.59 1.41.59.51 0 1.02-.2 1.41-.59l7.78-7.78 2.81-2.81c.8-.78.8-2.07 0-2.86zM5.41 20L4 18.59l7.72-7.72 1.47 1.35L5.41 20z\"/>\n",
              "  </svg>\n",
              "      </button>\n",
              "      \n",
              "  <style>\n",
              "    .colab-df-container {\n",
              "      display:flex;\n",
              "      flex-wrap:wrap;\n",
              "      gap: 12px;\n",
              "    }\n",
              "\n",
              "    .colab-df-convert {\n",
              "      background-color: #E8F0FE;\n",
              "      border: none;\n",
              "      border-radius: 50%;\n",
              "      cursor: pointer;\n",
              "      display: none;\n",
              "      fill: #1967D2;\n",
              "      height: 32px;\n",
              "      padding: 0 0 0 0;\n",
              "      width: 32px;\n",
              "    }\n",
              "\n",
              "    .colab-df-convert:hover {\n",
              "      background-color: #E2EBFA;\n",
              "      box-shadow: 0px 1px 2px rgba(60, 64, 67, 0.3), 0px 1px 3px 1px rgba(60, 64, 67, 0.15);\n",
              "      fill: #174EA6;\n",
              "    }\n",
              "\n",
              "    [theme=dark] .colab-df-convert {\n",
              "      background-color: #3B4455;\n",
              "      fill: #D2E3FC;\n",
              "    }\n",
              "\n",
              "    [theme=dark] .colab-df-convert:hover {\n",
              "      background-color: #434B5C;\n",
              "      box-shadow: 0px 1px 3px 1px rgba(0, 0, 0, 0.15);\n",
              "      filter: drop-shadow(0px 1px 2px rgba(0, 0, 0, 0.3));\n",
              "      fill: #FFFFFF;\n",
              "    }\n",
              "  </style>\n",
              "\n",
              "      <script>\n",
              "        const buttonEl =\n",
              "          document.querySelector('#df-aeea3a06-1700-461d-ad0d-8964a88efab5 button.colab-df-convert');\n",
              "        buttonEl.style.display =\n",
              "          google.colab.kernel.accessAllowed ? 'block' : 'none';\n",
              "\n",
              "        async function convertToInteractive(key) {\n",
              "          const element = document.querySelector('#df-aeea3a06-1700-461d-ad0d-8964a88efab5');\n",
              "          const dataTable =\n",
              "            await google.colab.kernel.invokeFunction('convertToInteractive',\n",
              "                                                     [key], {});\n",
              "          if (!dataTable) return;\n",
              "\n",
              "          const docLinkHtml = 'Like what you see? Visit the ' +\n",
              "            '<a target=\"_blank\" href=https://colab.research.google.com/notebooks/data_table.ipynb>data table notebook</a>'\n",
              "            + ' to learn more about interactive tables.';\n",
              "          element.innerHTML = '';\n",
              "          dataTable['output_type'] = 'display_data';\n",
              "          await google.colab.output.renderOutput(dataTable, element);\n",
              "          const docLink = document.createElement('div');\n",
              "          docLink.innerHTML = docLinkHtml;\n",
              "          element.appendChild(docLink);\n",
              "        }\n",
              "      </script>\n",
              "    </div>\n",
              "  </div>\n",
              "  "
            ]
          },
          "metadata": {},
          "execution_count": 81
        }
      ]
    },
    {
      "cell_type": "code",
      "source": [
        "train_set = data.drop(['Y', 'winpercent'], axis = 1)"
      ],
      "metadata": {
        "id": "iiVAghVaTr8Q"
      },
      "execution_count": null,
      "outputs": []
    },
    {
      "cell_type": "code",
      "source": [
        "train_set = train_set.drop(index = ['Nestle Crunch','Skittles wildberry','Sour Patch Tricksters'])"
      ],
      "metadata": {
        "id": "nXlwD96rgdLd"
      },
      "execution_count": null,
      "outputs": []
    },
    {
      "cell_type": "code",
      "source": [
        "train_response = data.drop(index = ['Nestle Crunch','Skittles wildberry','Sour Patch Tricksters']).Y"
      ],
      "metadata": {
        "id": "CHpqZU3tgHEr"
      },
      "execution_count": null,
      "outputs": []
    },
    {
      "cell_type": "code",
      "source": [
        "train_response"
      ],
      "metadata": {
        "colab": {
          "base_uri": "https://localhost:8080/"
        },
        "id": "yeEuCIhXguG1",
        "outputId": "66301792-36a4-45c5-dc9c-25ec2643b93c"
      },
      "execution_count": null,
      "outputs": [
        {
          "output_type": "execute_result",
          "data": {
            "text/plain": [
              "competitorname\n",
              "100 Grand              1\n",
              "3 Musketeers           1\n",
              "One dime               0\n",
              "One quarter            0\n",
              "Air Heads              1\n",
              "                      ..\n",
              "Snickers               1\n",
              "Snickers Crisper       1\n",
              "Sour Patch Kids        1\n",
              "Starburst              1\n",
              "Strawberry bon bons    0\n",
              "Name: Y, Length: 67, dtype: int64"
            ]
          },
          "metadata": {},
          "execution_count": 85
        }
      ]
    },
    {
      "cell_type": "code",
      "source": [
        "test = pd.read_csv('/content/candy-test.csv', index_col =  'competitorname').drop('Y', axis = 1)"
      ],
      "metadata": {
        "id": "pfZ0WI4Ifsfq"
      },
      "execution_count": null,
      "outputs": []
    },
    {
      "cell_type": "code",
      "source": [
        "test"
      ],
      "metadata": {
        "colab": {
          "base_uri": "https://localhost:8080/",
          "height": 702
        },
        "id": "tED4i6xJf07j",
        "outputId": "5c681645-8464-4aa9-e0ae-6052bdb11c54"
      },
      "execution_count": null,
      "outputs": [
        {
          "output_type": "execute_result",
          "data": {
            "text/plain": [
              "                           chocolate  fruity  caramel  peanutyalmondy  nougat  \\\n",
              "competitorname                                                                  \n",
              "Sugar Babies                       0       1        1               0       0   \n",
              "Sugar Daddy                        1       0        0               0       1   \n",
              "Super Bubble                       0       1        0               0       0   \n",
              "Swedish Fish                       0       1        0               0       0   \n",
              "Tootsie Pop                        1       0        0               0       0   \n",
              "Tootsie Roll Juniors               1       0        0               0       0   \n",
              "Tootsie Roll Midgies               1       0        0               0       0   \n",
              "Tootsie Roll Snack Bars            1       0        0               0       0   \n",
              "Trolli Sour Bites                  0       1        0               0       0   \n",
              "Twix                               0       1        0               0       0   \n",
              "Twizzlers                          0       1        0               0       0   \n",
              "Warheads                           0       1        0               0       0   \n",
              "Welchs Fruit Snacks                0       1        0               0       0   \n",
              "Werthers Original Caramel          1       0        1               0       0   \n",
              "Whoppers                           1       0        0               0       0   \n",
              "\n",
              "                           crispedricewafer  hard  bar  pluribus  \\\n",
              "competitorname                                                     \n",
              "Sugar Babies                              0     1    0         1   \n",
              "Sugar Daddy                               0     1    0         0   \n",
              "Super Bubble                              0     0    0         0   \n",
              "Swedish Fish                              0     0    0         1   \n",
              "Tootsie Pop                               0     0    0         0   \n",
              "Tootsie Roll Juniors                      0     0    0         0   \n",
              "Tootsie Roll Midgies                      0     0    0         1   \n",
              "Tootsie Roll Snack Bars                   0     0    1         0   \n",
              "Trolli Sour Bites                         0     0    0         1   \n",
              "Twix                                      0     0    0         0   \n",
              "Twizzlers                                 0     0    0         0   \n",
              "Warheads                                  0     1    0         0   \n",
              "Welchs Fruit Snacks                       0     0    0         1   \n",
              "Werthers Original Caramel                 0     1    0         0   \n",
              "Whoppers                                  0     0    0         1   \n",
              "\n",
              "                           sugarpercent  pricepercent  \n",
              "competitorname                                         \n",
              "Sugar Babies                   0.647364       0.76700  \n",
              "Sugar Daddy                    0.418000       0.32500  \n",
              "Super Bubble                   0.162000       0.11600  \n",
              "Swedish Fish                   0.604000       0.75500  \n",
              "Tootsie Pop                    0.876560       0.56540  \n",
              "Tootsie Roll Juniors           0.313000       0.51100  \n",
              "Tootsie Roll Midgies           0.174000       0.01100  \n",
              "Tootsie Roll Snack Bars        0.465000       0.32500  \n",
              "Trolli Sour Bites              0.313000       0.25500  \n",
              "Twix                           0.735430       0.86634  \n",
              "Twizzlers                      0.220000       0.11600  \n",
              "Warheads                       0.093000       0.11600  \n",
              "Welchs Fruit Snacks            0.313000       0.31300  \n",
              "Werthers Original Caramel      0.186000       0.26700  \n",
              "Whoppers                       0.872000       0.84800  "
            ],
            "text/html": [
              "\n",
              "  <div id=\"df-f8ee5a77-2bf4-43fe-a8ea-6819ced1e2f9\">\n",
              "    <div class=\"colab-df-container\">\n",
              "      <div>\n",
              "<style scoped>\n",
              "    .dataframe tbody tr th:only-of-type {\n",
              "        vertical-align: middle;\n",
              "    }\n",
              "\n",
              "    .dataframe tbody tr th {\n",
              "        vertical-align: top;\n",
              "    }\n",
              "\n",
              "    .dataframe thead th {\n",
              "        text-align: right;\n",
              "    }\n",
              "</style>\n",
              "<table border=\"1\" class=\"dataframe\">\n",
              "  <thead>\n",
              "    <tr style=\"text-align: right;\">\n",
              "      <th></th>\n",
              "      <th>chocolate</th>\n",
              "      <th>fruity</th>\n",
              "      <th>caramel</th>\n",
              "      <th>peanutyalmondy</th>\n",
              "      <th>nougat</th>\n",
              "      <th>crispedricewafer</th>\n",
              "      <th>hard</th>\n",
              "      <th>bar</th>\n",
              "      <th>pluribus</th>\n",
              "      <th>sugarpercent</th>\n",
              "      <th>pricepercent</th>\n",
              "    </tr>\n",
              "    <tr>\n",
              "      <th>competitorname</th>\n",
              "      <th></th>\n",
              "      <th></th>\n",
              "      <th></th>\n",
              "      <th></th>\n",
              "      <th></th>\n",
              "      <th></th>\n",
              "      <th></th>\n",
              "      <th></th>\n",
              "      <th></th>\n",
              "      <th></th>\n",
              "      <th></th>\n",
              "    </tr>\n",
              "  </thead>\n",
              "  <tbody>\n",
              "    <tr>\n",
              "      <th>Sugar Babies</th>\n",
              "      <td>0</td>\n",
              "      <td>1</td>\n",
              "      <td>1</td>\n",
              "      <td>0</td>\n",
              "      <td>0</td>\n",
              "      <td>0</td>\n",
              "      <td>1</td>\n",
              "      <td>0</td>\n",
              "      <td>1</td>\n",
              "      <td>0.647364</td>\n",
              "      <td>0.76700</td>\n",
              "    </tr>\n",
              "    <tr>\n",
              "      <th>Sugar Daddy</th>\n",
              "      <td>1</td>\n",
              "      <td>0</td>\n",
              "      <td>0</td>\n",
              "      <td>0</td>\n",
              "      <td>1</td>\n",
              "      <td>0</td>\n",
              "      <td>1</td>\n",
              "      <td>0</td>\n",
              "      <td>0</td>\n",
              "      <td>0.418000</td>\n",
              "      <td>0.32500</td>\n",
              "    </tr>\n",
              "    <tr>\n",
              "      <th>Super Bubble</th>\n",
              "      <td>0</td>\n",
              "      <td>1</td>\n",
              "      <td>0</td>\n",
              "      <td>0</td>\n",
              "      <td>0</td>\n",
              "      <td>0</td>\n",
              "      <td>0</td>\n",
              "      <td>0</td>\n",
              "      <td>0</td>\n",
              "      <td>0.162000</td>\n",
              "      <td>0.11600</td>\n",
              "    </tr>\n",
              "    <tr>\n",
              "      <th>Swedish Fish</th>\n",
              "      <td>0</td>\n",
              "      <td>1</td>\n",
              "      <td>0</td>\n",
              "      <td>0</td>\n",
              "      <td>0</td>\n",
              "      <td>0</td>\n",
              "      <td>0</td>\n",
              "      <td>0</td>\n",
              "      <td>1</td>\n",
              "      <td>0.604000</td>\n",
              "      <td>0.75500</td>\n",
              "    </tr>\n",
              "    <tr>\n",
              "      <th>Tootsie Pop</th>\n",
              "      <td>1</td>\n",
              "      <td>0</td>\n",
              "      <td>0</td>\n",
              "      <td>0</td>\n",
              "      <td>0</td>\n",
              "      <td>0</td>\n",
              "      <td>0</td>\n",
              "      <td>0</td>\n",
              "      <td>0</td>\n",
              "      <td>0.876560</td>\n",
              "      <td>0.56540</td>\n",
              "    </tr>\n",
              "    <tr>\n",
              "      <th>Tootsie Roll Juniors</th>\n",
              "      <td>1</td>\n",
              "      <td>0</td>\n",
              "      <td>0</td>\n",
              "      <td>0</td>\n",
              "      <td>0</td>\n",
              "      <td>0</td>\n",
              "      <td>0</td>\n",
              "      <td>0</td>\n",
              "      <td>0</td>\n",
              "      <td>0.313000</td>\n",
              "      <td>0.51100</td>\n",
              "    </tr>\n",
              "    <tr>\n",
              "      <th>Tootsie Roll Midgies</th>\n",
              "      <td>1</td>\n",
              "      <td>0</td>\n",
              "      <td>0</td>\n",
              "      <td>0</td>\n",
              "      <td>0</td>\n",
              "      <td>0</td>\n",
              "      <td>0</td>\n",
              "      <td>0</td>\n",
              "      <td>1</td>\n",
              "      <td>0.174000</td>\n",
              "      <td>0.01100</td>\n",
              "    </tr>\n",
              "    <tr>\n",
              "      <th>Tootsie Roll Snack Bars</th>\n",
              "      <td>1</td>\n",
              "      <td>0</td>\n",
              "      <td>0</td>\n",
              "      <td>0</td>\n",
              "      <td>0</td>\n",
              "      <td>0</td>\n",
              "      <td>0</td>\n",
              "      <td>1</td>\n",
              "      <td>0</td>\n",
              "      <td>0.465000</td>\n",
              "      <td>0.32500</td>\n",
              "    </tr>\n",
              "    <tr>\n",
              "      <th>Trolli Sour Bites</th>\n",
              "      <td>0</td>\n",
              "      <td>1</td>\n",
              "      <td>0</td>\n",
              "      <td>0</td>\n",
              "      <td>0</td>\n",
              "      <td>0</td>\n",
              "      <td>0</td>\n",
              "      <td>0</td>\n",
              "      <td>1</td>\n",
              "      <td>0.313000</td>\n",
              "      <td>0.25500</td>\n",
              "    </tr>\n",
              "    <tr>\n",
              "      <th>Twix</th>\n",
              "      <td>0</td>\n",
              "      <td>1</td>\n",
              "      <td>0</td>\n",
              "      <td>0</td>\n",
              "      <td>0</td>\n",
              "      <td>0</td>\n",
              "      <td>0</td>\n",
              "      <td>0</td>\n",
              "      <td>0</td>\n",
              "      <td>0.735430</td>\n",
              "      <td>0.86634</td>\n",
              "    </tr>\n",
              "    <tr>\n",
              "      <th>Twizzlers</th>\n",
              "      <td>0</td>\n",
              "      <td>1</td>\n",
              "      <td>0</td>\n",
              "      <td>0</td>\n",
              "      <td>0</td>\n",
              "      <td>0</td>\n",
              "      <td>0</td>\n",
              "      <td>0</td>\n",
              "      <td>0</td>\n",
              "      <td>0.220000</td>\n",
              "      <td>0.11600</td>\n",
              "    </tr>\n",
              "    <tr>\n",
              "      <th>Warheads</th>\n",
              "      <td>0</td>\n",
              "      <td>1</td>\n",
              "      <td>0</td>\n",
              "      <td>0</td>\n",
              "      <td>0</td>\n",
              "      <td>0</td>\n",
              "      <td>1</td>\n",
              "      <td>0</td>\n",
              "      <td>0</td>\n",
              "      <td>0.093000</td>\n",
              "      <td>0.11600</td>\n",
              "    </tr>\n",
              "    <tr>\n",
              "      <th>Welchs Fruit Snacks</th>\n",
              "      <td>0</td>\n",
              "      <td>1</td>\n",
              "      <td>0</td>\n",
              "      <td>0</td>\n",
              "      <td>0</td>\n",
              "      <td>0</td>\n",
              "      <td>0</td>\n",
              "      <td>0</td>\n",
              "      <td>1</td>\n",
              "      <td>0.313000</td>\n",
              "      <td>0.31300</td>\n",
              "    </tr>\n",
              "    <tr>\n",
              "      <th>Werthers Original Caramel</th>\n",
              "      <td>1</td>\n",
              "      <td>0</td>\n",
              "      <td>1</td>\n",
              "      <td>0</td>\n",
              "      <td>0</td>\n",
              "      <td>0</td>\n",
              "      <td>1</td>\n",
              "      <td>0</td>\n",
              "      <td>0</td>\n",
              "      <td>0.186000</td>\n",
              "      <td>0.26700</td>\n",
              "    </tr>\n",
              "    <tr>\n",
              "      <th>Whoppers</th>\n",
              "      <td>1</td>\n",
              "      <td>0</td>\n",
              "      <td>0</td>\n",
              "      <td>0</td>\n",
              "      <td>0</td>\n",
              "      <td>0</td>\n",
              "      <td>0</td>\n",
              "      <td>0</td>\n",
              "      <td>1</td>\n",
              "      <td>0.872000</td>\n",
              "      <td>0.84800</td>\n",
              "    </tr>\n",
              "  </tbody>\n",
              "</table>\n",
              "</div>\n",
              "      <button class=\"colab-df-convert\" onclick=\"convertToInteractive('df-f8ee5a77-2bf4-43fe-a8ea-6819ced1e2f9')\"\n",
              "              title=\"Convert this dataframe to an interactive table.\"\n",
              "              style=\"display:none;\">\n",
              "        \n",
              "  <svg xmlns=\"http://www.w3.org/2000/svg\" height=\"24px\"viewBox=\"0 0 24 24\"\n",
              "       width=\"24px\">\n",
              "    <path d=\"M0 0h24v24H0V0z\" fill=\"none\"/>\n",
              "    <path d=\"M18.56 5.44l.94 2.06.94-2.06 2.06-.94-2.06-.94-.94-2.06-.94 2.06-2.06.94zm-11 1L8.5 8.5l.94-2.06 2.06-.94-2.06-.94L8.5 2.5l-.94 2.06-2.06.94zm10 10l.94 2.06.94-2.06 2.06-.94-2.06-.94-.94-2.06-.94 2.06-2.06.94z\"/><path d=\"M17.41 7.96l-1.37-1.37c-.4-.4-.92-.59-1.43-.59-.52 0-1.04.2-1.43.59L10.3 9.45l-7.72 7.72c-.78.78-.78 2.05 0 2.83L4 21.41c.39.39.9.59 1.41.59.51 0 1.02-.2 1.41-.59l7.78-7.78 2.81-2.81c.8-.78.8-2.07 0-2.86zM5.41 20L4 18.59l7.72-7.72 1.47 1.35L5.41 20z\"/>\n",
              "  </svg>\n",
              "      </button>\n",
              "      \n",
              "  <style>\n",
              "    .colab-df-container {\n",
              "      display:flex;\n",
              "      flex-wrap:wrap;\n",
              "      gap: 12px;\n",
              "    }\n",
              "\n",
              "    .colab-df-convert {\n",
              "      background-color: #E8F0FE;\n",
              "      border: none;\n",
              "      border-radius: 50%;\n",
              "      cursor: pointer;\n",
              "      display: none;\n",
              "      fill: #1967D2;\n",
              "      height: 32px;\n",
              "      padding: 0 0 0 0;\n",
              "      width: 32px;\n",
              "    }\n",
              "\n",
              "    .colab-df-convert:hover {\n",
              "      background-color: #E2EBFA;\n",
              "      box-shadow: 0px 1px 2px rgba(60, 64, 67, 0.3), 0px 1px 3px 1px rgba(60, 64, 67, 0.15);\n",
              "      fill: #174EA6;\n",
              "    }\n",
              "\n",
              "    [theme=dark] .colab-df-convert {\n",
              "      background-color: #3B4455;\n",
              "      fill: #D2E3FC;\n",
              "    }\n",
              "\n",
              "    [theme=dark] .colab-df-convert:hover {\n",
              "      background-color: #434B5C;\n",
              "      box-shadow: 0px 1px 3px 1px rgba(0, 0, 0, 0.15);\n",
              "      filter: drop-shadow(0px 1px 2px rgba(0, 0, 0, 0.3));\n",
              "      fill: #FFFFFF;\n",
              "    }\n",
              "  </style>\n",
              "\n",
              "      <script>\n",
              "        const buttonEl =\n",
              "          document.querySelector('#df-f8ee5a77-2bf4-43fe-a8ea-6819ced1e2f9 button.colab-df-convert');\n",
              "        buttonEl.style.display =\n",
              "          google.colab.kernel.accessAllowed ? 'block' : 'none';\n",
              "\n",
              "        async function convertToInteractive(key) {\n",
              "          const element = document.querySelector('#df-f8ee5a77-2bf4-43fe-a8ea-6819ced1e2f9');\n",
              "          const dataTable =\n",
              "            await google.colab.kernel.invokeFunction('convertToInteractive',\n",
              "                                                     [key], {});\n",
              "          if (!dataTable) return;\n",
              "\n",
              "          const docLinkHtml = 'Like what you see? Visit the ' +\n",
              "            '<a target=\"_blank\" href=https://colab.research.google.com/notebooks/data_table.ipynb>data table notebook</a>'\n",
              "            + ' to learn more about interactive tables.';\n",
              "          element.innerHTML = '';\n",
              "          dataTable['output_type'] = 'display_data';\n",
              "          await google.colab.output.renderOutput(dataTable, element);\n",
              "          const docLink = document.createElement('div');\n",
              "          docLink.innerHTML = docLinkHtml;\n",
              "          element.appendChild(docLink);\n",
              "        }\n",
              "      </script>\n",
              "    </div>\n",
              "  </div>\n",
              "  "
            ]
          },
          "metadata": {},
          "execution_count": 87
        }
      ]
    },
    {
      "cell_type": "code",
      "source": [
        "test_response =  pd.read_csv('/content/candy-test.csv', index_col =  'competitorname').Y"
      ],
      "metadata": {
        "id": "U122LWWCjMjY"
      },
      "execution_count": null,
      "outputs": []
    },
    {
      "cell_type": "code",
      "source": [
        "from sklearn.linear_model import LogisticRegression\n",
        "random_state = 2019\n",
        "solver = 'lbfgs'\n",
        "clf = LogisticRegression(random_state = 2019, solver = 'lbfgs').fit(train_set, train_response)"
      ],
      "metadata": {
        "id": "jRo40TdgKlIv"
      },
      "execution_count": null,
      "outputs": []
    },
    {
      "cell_type": "code",
      "source": [
        "clf.classes_"
      ],
      "metadata": {
        "colab": {
          "base_uri": "https://localhost:8080/"
        },
        "id": "Dz0LTVyshIzP",
        "outputId": "fe034d7f-8cb0-43e3-b461-f0316adefa2b"
      },
      "execution_count": null,
      "outputs": [
        {
          "output_type": "execute_result",
          "data": {
            "text/plain": [
              "array([0, 1])"
            ]
          },
          "metadata": {},
          "execution_count": 90
        }
      ]
    },
    {
      "cell_type": "code",
      "source": [
        "test1 = test.loc['Trolli Sour Bites']\n",
        "test1 = np.array(test1).reshape(1,-1)\n",
        "clf.predict_proba(test1)"
      ],
      "metadata": {
        "colab": {
          "base_uri": "https://localhost:8080/"
        },
        "id": "tFyUSArHcdIi",
        "outputId": "2a5a0d0a-c87b-43d2-a298-ffd11b53de02"
      },
      "execution_count": null,
      "outputs": [
        {
          "output_type": "stream",
          "name": "stderr",
          "text": [
            "/usr/local/lib/python3.7/dist-packages/sklearn/base.py:451: UserWarning: X does not have valid feature names, but LogisticRegression was fitted with feature names\n",
            "  \"X does not have valid feature names, but\"\n"
          ]
        },
        {
          "output_type": "execute_result",
          "data": {
            "text/plain": [
              "array([[0.70832211, 0.29167789]])"
            ]
          },
          "metadata": {},
          "execution_count": 91
        }
      ]
    },
    {
      "cell_type": "code",
      "source": [
        "round(0.29167789,3)"
      ],
      "metadata": {
        "colab": {
          "base_uri": "https://localhost:8080/"
        },
        "id": "LijHeo4bhUQx",
        "outputId": "94a0cc5a-da1f-4602-df40-cd4823c329f1"
      },
      "execution_count": null,
      "outputs": [
        {
          "output_type": "execute_result",
          "data": {
            "text/plain": [
              "0.292"
            ]
          },
          "metadata": {},
          "execution_count": 92
        }
      ]
    },
    {
      "cell_type": "code",
      "source": [
        "test1 = test.loc['Twizzlers']\n",
        "test1 = np.array(test1).reshape(1,-1)\n",
        "clf.predict_proba(test1)"
      ],
      "metadata": {
        "colab": {
          "base_uri": "https://localhost:8080/"
        },
        "id": "wKaa8KeTedMB",
        "outputId": "2dabfebf-d686-4675-8a04-be517f869045"
      },
      "execution_count": null,
      "outputs": [
        {
          "output_type": "stream",
          "name": "stderr",
          "text": [
            "/usr/local/lib/python3.7/dist-packages/sklearn/base.py:451: UserWarning: X does not have valid feature names, but LogisticRegression was fitted with feature names\n",
            "  \"X does not have valid feature names, but\"\n"
          ]
        },
        {
          "output_type": "execute_result",
          "data": {
            "text/plain": [
              "array([[0.6962054, 0.3037946]])"
            ]
          },
          "metadata": {},
          "execution_count": 93
        }
      ]
    },
    {
      "cell_type": "code",
      "source": [
        "round(0.3037946,3)"
      ],
      "metadata": {
        "colab": {
          "base_uri": "https://localhost:8080/"
        },
        "id": "tmerHDvuegeb",
        "outputId": "f7da8594-33ef-4f6b-e008-5c160e167950"
      },
      "execution_count": null,
      "outputs": [
        {
          "output_type": "execute_result",
          "data": {
            "text/plain": [
              "0.304"
            ]
          },
          "metadata": {},
          "execution_count": 94
        }
      ]
    },
    {
      "cell_type": "code",
      "source": [
        "from sklearn.metrics import confusion_matrix"
      ],
      "metadata": {
        "id": "XQnepvBvi3zD"
      },
      "execution_count": null,
      "outputs": []
    },
    {
      "cell_type": "code",
      "source": [
        "y_pred = clf.predict(test)"
      ],
      "metadata": {
        "id": "cGNX2epKjdk4"
      },
      "execution_count": null,
      "outputs": []
    },
    {
      "cell_type": "code",
      "source": [
        "y_pred"
      ],
      "metadata": {
        "colab": {
          "base_uri": "https://localhost:8080/"
        },
        "id": "XUZo8qAojg5e",
        "outputId": "04234b44-b21f-40b8-ed62-9d5f87bb84d5"
      },
      "execution_count": null,
      "outputs": [
        {
          "output_type": "execute_result",
          "data": {
            "text/plain": [
              "array([0, 0, 0, 0, 1, 1, 1, 1, 0, 0, 0, 0, 0, 1, 1])"
            ]
          },
          "metadata": {},
          "execution_count": 97
        }
      ]
    },
    {
      "cell_type": "code",
      "source": [
        "confusion_matrix = confusion_matrix(test_response, y_pred)"
      ],
      "metadata": {
        "id": "i-MZlojti9_M"
      },
      "execution_count": null,
      "outputs": []
    },
    {
      "cell_type": "code",
      "source": [
        "confusion_matrix"
      ],
      "metadata": {
        "colab": {
          "base_uri": "https://localhost:8080/"
        },
        "id": "YYahNRovjwJs",
        "outputId": "4a78f980-4430-4722-b110-db50e0402c0d"
      },
      "execution_count": null,
      "outputs": [
        {
          "output_type": "execute_result",
          "data": {
            "text/plain": [
              "array([[7, 3],\n",
              "       [2, 3]])"
            ]
          },
          "metadata": {},
          "execution_count": 103
        }
      ]
    },
    {
      "cell_type": "code",
      "source": [
        "TP = confusion_matrix[1][1]\n",
        "TN = confusion_matrix[0][0]\n",
        "FP = confusion_matrix[0][1]\n",
        "FN = confusion_matrix[1][0]"
      ],
      "metadata": {
        "id": "uJwGfMmgiJQM"
      },
      "execution_count": null,
      "outputs": []
    },
    {
      "cell_type": "code",
      "source": [
        "TPR = TP/(TP+FN)"
      ],
      "metadata": {
        "id": "iZdq-qKykBDo"
      },
      "execution_count": null,
      "outputs": []
    },
    {
      "cell_type": "code",
      "source": [
        "TPR"
      ],
      "metadata": {
        "colab": {
          "base_uri": "https://localhost:8080/"
        },
        "id": "60Cffj5fkFQ1",
        "outputId": "4dff4557-1870-416a-b3ed-322a8f27c48f"
      },
      "execution_count": null,
      "outputs": [
        {
          "output_type": "execute_result",
          "data": {
            "text/plain": [
              "0.6"
            ]
          },
          "metadata": {},
          "execution_count": 105
        }
      ]
    },
    {
      "cell_type": "code",
      "source": [
        "presicion = TP/(TP+FP)"
      ],
      "metadata": {
        "id": "XtRMNMyykLUC"
      },
      "execution_count": null,
      "outputs": []
    },
    {
      "cell_type": "code",
      "source": [
        "presicion"
      ],
      "metadata": {
        "colab": {
          "base_uri": "https://localhost:8080/"
        },
        "id": "qB8t5qKskPSz",
        "outputId": "ce40e456-6790-4739-f004-1a573ba99b0f"
      },
      "execution_count": null,
      "outputs": [
        {
          "output_type": "execute_result",
          "data": {
            "text/plain": [
              "0.5"
            ]
          },
          "metadata": {},
          "execution_count": 107
        }
      ]
    },
    {
      "cell_type": "code",
      "source": [
        "from sklearn.metrics import roc_auc_score\n",
        "from sklearn.metrics import roc_curve\n",
        "\n",
        "roc_auc = roc_auc_score(test_response,clf.predict_proba(test)[:,1] ) # treshold = 0.5\n",
        "fpr, tpr, thresholds = roc_curve(test_response,clf.predict_proba(test)[:,1])\n",
        "\n",
        "\n",
        "# from sklearn.metrics import accuracy_score,  recall_score, roc_auc_score, precision_score\n",
        "\n",
        "# THRESHOLD = 0.5\n",
        "# preds = np.where(clf.predict_proba(test)[:, 1] > THRESHOLD, 1, 0)\n",
        "# report2 = pd.DataFrame(data=[accuracy_score(test_response, preds), recall_score(test_response, preds),\n",
        "#                              precision_score(test_response, preds), roc_auc_score(test_response, clf.predict_proba(test)[:, 1])],\n",
        "#                        index=[\"accuracy\", \"recall\", \"precision\", \"roc_auc_score\"])\n",
        "# print(\"report2:\\n\", report2)\n",
        "# print(\"\\nAUC:\")\n",
        "# print(roc_auc_score(test_response, y_pred))\n",
        "# print(roc_auc_score(test_response, preds))\n",
        "# print(roc_auc_score(test_response, clf.predict_proba(test)[:,1]))"
      ],
      "metadata": {
        "colab": {
          "base_uri": "https://localhost:8080/"
        },
        "id": "DLciZcFqjurE",
        "outputId": "fdfe5282-8355-49fc-87e9-000b371b09dd"
      },
      "execution_count": null,
      "outputs": [
        {
          "output_type": "stream",
          "name": "stdout",
          "text": [
            "report2:\n",
            "                       0\n",
            "accuracy       0.666667\n",
            "recall         0.600000\n",
            "precision      0.500000\n",
            "roc_auc_score  0.840000\n",
            "\n",
            "AUC:\n",
            "0.6499999999999999\n",
            "0.6499999999999999\n",
            "0.84\n"
          ]
        }
      ]
    },
    {
      "cell_type": "code",
      "source": [
        "round(0.6499999999999999,3)"
      ],
      "metadata": {
        "colab": {
          "base_uri": "https://localhost:8080/"
        },
        "id": "MFGuU1LflAI7",
        "outputId": "54dab034-dea6-4214-aad6-09ab94f66f51"
      },
      "execution_count": null,
      "outputs": [
        {
          "output_type": "execute_result",
          "data": {
            "text/plain": [
              "0.65"
            ]
          },
          "metadata": {},
          "execution_count": 123
        }
      ]
    },
    {
      "cell_type": "code",
      "source": [],
      "metadata": {
        "id": "su5TRRywl_MU"
      },
      "execution_count": null,
      "outputs": []
    }
  ]
}