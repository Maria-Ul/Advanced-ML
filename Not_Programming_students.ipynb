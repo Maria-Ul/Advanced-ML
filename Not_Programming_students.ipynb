{
  "cells": [
    {
      "cell_type": "markdown",
      "metadata": {
        "id": "view-in-github",
        "colab_type": "text"
      },
      "source": [
        "<a href=\"https://colab.research.google.com/github/Maria-Ul/Advanced-ML/blob/main/Not_Programming_students.ipynb\" target=\"_parent\"><img src=\"https://colab.research.google.com/assets/colab-badge.svg\" alt=\"Open In Colab\"/></a>"
      ]
    },
    {
      "cell_type": "markdown",
      "metadata": {
        "id": "pQu5IYHX8jId"
      },
      "source": [
        "Настройка гиперпараметров модели"
      ]
    },
    {
      "cell_type": "code",
      "execution_count": null,
      "metadata": {
        "id": "Qf5Ji2nIHixN"
      },
      "outputs": [],
      "source": [
        "epsilon = 0.1 # Параметр эпсилон при использовании эпсилон жадной стратегии\n",
        "gamma = 0.8 # Коэффциент дисконтирования гамма\n",
        "random_seed = 6 #Random seed\n",
        "time_delay = 1 # Задержка времени при отрисовке процесса игры после обучения (секунды)"
      ]
    },
    {
      "cell_type": "code",
      "execution_count": null,
      "metadata": {
        "id": "kNFOy_PLEtw9"
      },
      "outputs": [],
      "source": [
        "!pip install -q --upgrade gym==0.18.0"
      ]
    },
    {
      "cell_type": "code",
      "execution_count": null,
      "metadata": {
        "id": "nwERyO-d_orM",
        "outputId": "e80b4821-2a19-4e2c-c3e6-cece9a8abd99"
      },
      "outputs": [
        {
          "name": "stdout",
          "output_type": "stream",
          "text": [
            "Ваша карта\n",
            "\n",
            "\u001b[41mS\u001b[0mFHFFF\n",
            "FFFFFF\n",
            "FFFHHF\n",
            "HHFFHF\n",
            "FFFHFF\n",
            "FHFFFG\n"
          ]
        }
      ],
      "source": [
        "#@title Вывод карты\n",
        "lr_rate = 0.9 # Параметр альфа, отвечающиий за скорость обучения\n",
        "\n",
        "import gym\n",
        "import numpy as np\n",
        "import time\n",
        "\n",
        "\n",
        "def generate_random_map(size, p, sd):\n",
        "    \"\"\"Generates a random valid map (one that has a path from start to goal)\n",
        "    :param size: size of each side of the grid\n",
        "    :param p: probability that a tile is frozen\n",
        "    \"\"\"\n",
        "    valid = False\n",
        "    np.random.seed(sd)\n",
        "\n",
        "    # DFS to check that it's a valid path.\n",
        "    def is_valid(res):\n",
        "        frontier, discovered = [], set()\n",
        "        frontier.append((0,0))\n",
        "        while frontier:\n",
        "            r, c = frontier.pop()\n",
        "            if not (r,c) in discovered:\n",
        "                discovered.add((r,c))\n",
        "                directions = [(1, 0), (0, 1), (-1, 0), (0, -1)]\n",
        "                for x, y in directions:\n",
        "                    r_new = r + x\n",
        "                    c_new = c + y\n",
        "                    if r_new < 0 or r_new >= size or c_new < 0 or c_new >= size:\n",
        "                        continue\n",
        "                    if res[r_new][c_new] == 'G':\n",
        "                        return True\n",
        "                    if (res[r_new][c_new] not in '#H'):\n",
        "                        frontier.append((r_new, c_new))\n",
        "        return False\n",
        "\n",
        "    while not valid:\n",
        "        p = min(1, p)\n",
        "        res = np.random.choice(['F', 'H'], (size, size), p=[p, 1-p])\n",
        "        res[0][0] = 'S'\n",
        "        res[-1][-1] = 'G'\n",
        "        valid = is_valid(res)\n",
        "    return [\"\".join(x) for x in res]\n",
        "\n",
        "\n",
        "random_map = generate_random_map(size=6, p=0.8, sd = random_seed)\n",
        "maze = random_map\n",
        "env = gym.make(\"FrozenLake-v0\", desc=random_map, is_slippery=False) #is slippery removes possibility to get in incorrect state after an action\n",
        "print(\"Ваша карта\")\n",
        "env.render()\n",
        "\n"
      ]
    },
    {
      "cell_type": "code",
      "execution_count": null,
      "metadata": {
        "id": "gTAvV2AbEtxB",
        "outputId": "d1487927-e1d9-48a3-91c0-474e50086f78"
      },
      "outputs": [
        {
          "name": "stdout",
          "output_type": "stream",
          "text": [
            "Collecting tqdm\n",
            "  Downloading tqdm-4.64.1-py2.py3-none-any.whl (78 kB)\n",
            "\u001b[2K     \u001b[90m━━━━━━━━━━━━━━━━━━━━━━━━━━━━━━━━━━━━━━━\u001b[0m \u001b[32m78.5/78.5 kB\u001b[0m \u001b[31m939.1 kB/s\u001b[0m eta \u001b[36m0:00:00\u001b[0m \u001b[36m0:00:01\u001b[0m\n",
            "\u001b[?25hInstalling collected packages: tqdm\n",
            "Successfully installed tqdm-4.64.1\n"
          ]
        }
      ],
      "source": [
        "!pip install tqdm"
      ]
    },
    {
      "cell_type": "code",
      "execution_count": null,
      "metadata": {
        "id": "nVSryhgomXjz",
        "outputId": "53d3db43-00ea-4e24-dfff-7d1f409fafa8"
      },
      "outputs": [
        {
          "name": "stderr",
          "output_type": "stream",
          "text": [
            "100%|██████████| 10000/10000 [00:11<00:00, 872.03it/s]"
          ]
        },
        {
          "name": "stdout",
          "output_type": "stream",
          "text": [
            "\n",
            "Количество побед в серии из 10 000 игр:  2202\n",
            "Пять побед подряд впервые было одержано в игре  7473\n"
          ]
        },
        {
          "name": "stderr",
          "output_type": "stream",
          "text": [
            "\n"
          ]
        }
      ],
      "source": [
        "#@title Вывод количества побед и номера игры, когда впервые было одержано 5 побед подряд\n",
        "def choose_action(state):\n",
        "    action=0\n",
        "    if np.random.uniform(0, 1) < epsilon:\n",
        "        action = np.random.randint(0,env.action_space.n) #***\n",
        "        #action = env.action_space.sample()\n",
        "    else:\n",
        "        action = np.random.choice(np.array(np.argwhere(Q[state, :] == np.amax(Q[state, :])).flatten().tolist()))\n",
        "    return action\n",
        "\n",
        "def learn(state, state2, reward, action, done):\n",
        "    #Q-learning\n",
        "    if done:\n",
        "      Q[state, action] = Q[state, action] + lr_rate * (reward - Q[state, action])\n",
        "    else:\n",
        "      Q[state, action] = Q[state, action] + lr_rate * (reward + gamma * np.max(Q[state2, :]) - Q[state, action])\n",
        "\n",
        "\n",
        "from tqdm import tqdm\n",
        "# Inititalization\n",
        "wins_arr = [] #delete\n",
        "np.random.seed(random_seed)\n",
        "total_episodes = 10000\n",
        "max_steps = 100\n",
        "Q = np.zeros((env.observation_space.n, env.action_space.n))\n",
        "min_episode = 0 #delete\n",
        "#Main cycle\n",
        "for episode in tqdm(range(total_episodes)):\n",
        "    state = env.reset()\n",
        "    t = 0\n",
        "    while t < max_steps:\n",
        "      #delete\n",
        "        if episode > 5 and wins_arr[episode-5] == 1 and wins_arr[episode-4] == 1 and wins_arr[episode-3] == 1 and wins_arr[episode-2] == 1 and wins_arr[episode-1] == 1 and min_episode ==0:\n",
        "          min_episode = episode\n",
        "\n",
        "        t += 1\n",
        "\n",
        "        action = choose_action(state)\n",
        "\n",
        "        state2, reward, done, info = env.step(action)\n",
        "\n",
        "        if t == max_steps:\n",
        "          done = True\n",
        "\n",
        "        learn(state, state2, reward, action, done)\n",
        "\n",
        "        state = state2\n",
        "\n",
        "        if done and reward == 1:\n",
        "          wins_arr.append(1) #record if won\n",
        "          break\n",
        "        if done:\n",
        "          wins_arr.append(0) #record if lost\n",
        "          break\n",
        "\n",
        "#print(\"Таблица ценностей действий\")\n",
        "#print(np.round(Q,2))\n",
        "#Number of wins\n",
        "print('')\n",
        "print(\"Количество побед в серии из 10 000 игр: \", np.sum(wins_arr))\n",
        "#Number of the episode\n",
        "print(\"Пять побед подряд впервые было одержано в игре \",min_episode)"
      ]
    },
    {
      "cell_type": "code",
      "execution_count": null,
      "metadata": {
        "colab": {
          "base_uri": "https://localhost:8080/",
          "height": 236
        },
        "id": "hgojmJYxYUoM",
        "outputId": "608e4793-deba-43ea-c45f-6f72fe506411"
      },
      "outputs": [
        {
          "output_type": "error",
          "ename": "NameError",
          "evalue": "ignored",
          "traceback": [
            "\u001b[0;31m---------------------------------------------------------------------------\u001b[0m",
            "\u001b[0;31mNameError\u001b[0m                                 Traceback (most recent call last)",
            "\u001b[0;32m<ipython-input-1-ad2d0d522458>\u001b[0m in \u001b[0;36m<module>\u001b[0;34m\u001b[0m\n\u001b[1;32m      9\u001b[0m \u001b[0mstates\u001b[0m\u001b[0;34m=\u001b[0m\u001b[0;34m[\u001b[0m\u001b[0;34m]\u001b[0m\u001b[0;34m\u001b[0m\u001b[0;34m\u001b[0m\u001b[0m\n\u001b[1;32m     10\u001b[0m \u001b[0mt\u001b[0m \u001b[0;34m=\u001b[0m \u001b[0;36m0\u001b[0m\u001b[0;34m\u001b[0m\u001b[0;34m\u001b[0m\u001b[0m\n\u001b[0;32m---> 11\u001b[0;31m \u001b[0mstate\u001b[0m \u001b[0;34m=\u001b[0m \u001b[0menv\u001b[0m\u001b[0;34m.\u001b[0m\u001b[0mreset\u001b[0m\u001b[0;34m(\u001b[0m\u001b[0;34m)\u001b[0m\u001b[0;34m\u001b[0m\u001b[0;34m\u001b[0m\u001b[0m\n\u001b[0m\u001b[1;32m     12\u001b[0m \u001b[0;34m\u001b[0m\u001b[0m\n\u001b[1;32m     13\u001b[0m \u001b[0;32mwhile\u001b[0m\u001b[0;34m(\u001b[0m\u001b[0mt\u001b[0m\u001b[0;34m<\u001b[0m\u001b[0;36m1000\u001b[0m\u001b[0;34m)\u001b[0m\u001b[0;34m:\u001b[0m\u001b[0;34m\u001b[0m\u001b[0;34m\u001b[0m\u001b[0m\n",
            "\u001b[0;31mNameError\u001b[0m: name 'env' is not defined"
          ]
        }
      ],
      "source": [
        "#@title Отдельная игра после обучения\n",
        "#Just 1 game to check if Q-table fits to win\n",
        "from IPython.display import clear_output\n",
        "import time\n",
        "\n",
        "def choose_action_one_game(state):\n",
        "    action = np.random.choice(np.array(np.argwhere(Q[state, :] == np.amax(Q[state, :])).flatten().tolist()))\n",
        "    return action\n",
        "states=[]\n",
        "t = 0\n",
        "state = env.reset()\n",
        "\n",
        "while(t<1000):\n",
        "  env.render()\n",
        "  time.sleep(time_delay)\n",
        "  clear_output(wait=True)\n",
        "  action = choose_action_one_game(state)\n",
        "  state2, reward, done, info = env.step(action)\n",
        "  #print(reward)\n",
        "  states.append(state)\n",
        "  state = state2\n",
        "  t += 1\n",
        "  if done and reward == 1:\n",
        "    wn=1\n",
        "  if done:\n",
        "    break\n",
        "if wn == 1:\n",
        "  print(\"!!!Победа!!!\")"
      ]
    },
    {
      "cell_type": "code",
      "execution_count": null,
      "metadata": {
        "id": "BjEDlYnDEtxH",
        "outputId": "0f9874de-88ea-44c3-f579-859e2e040520"
      },
      "outputs": [
        {
          "data": {
            "text/plain": [
              "10"
            ]
          },
          "execution_count": 19,
          "metadata": {},
          "output_type": "execute_result"
        }
      ],
      "source": [
        "t"
      ]
    },
    {
      "cell_type": "code",
      "execution_count": null,
      "metadata": {
        "id": "1zrX31YSEtxI",
        "outputId": "059908f1-86e7-45ce-cd88-3d85b93819ad"
      },
      "outputs": [
        {
          "name": "stdout",
          "output_type": "stream",
          "text": [
            "Collecting matplotlib\n",
            "  Downloading matplotlib-3.6.2-cp310-cp310-macosx_10_12_x86_64.whl (7.3 MB)\n",
            "\u001b[2K     \u001b[90m━━━━━━━━━━━━━━━━━━━━━━━━━━━━━━━━━━━━━━━━\u001b[0m \u001b[32m7.3/7.3 MB\u001b[0m \u001b[31m14.0 MB/s\u001b[0m eta \u001b[36m0:00:00\u001b[0m00:01\u001b[0m00:01\u001b[0m\n",
            "\u001b[?25hCollecting contourpy>=1.0.1\n",
            "  Downloading contourpy-1.0.6-cp310-cp310-macosx_10_9_x86_64.whl (240 kB)\n",
            "\u001b[2K     \u001b[90m━━━━━━━━━━━━━━━━━━━━━━━━━━━━━━━━━━━━━━━\u001b[0m \u001b[32m240.6/240.6 kB\u001b[0m \u001b[31m9.0 MB/s\u001b[0m eta \u001b[36m0:00:00\u001b[0m\n",
            "\u001b[?25hRequirement already satisfied: packaging>=20.0 in /Users/user/opt/anaconda3/envs/reaper/lib/python3.10/site-packages (from matplotlib) (21.3)\n",
            "Collecting fonttools>=4.22.0\n",
            "  Downloading fonttools-4.38.0-py3-none-any.whl (965 kB)\n",
            "\u001b[2K     \u001b[90m━━━━━━━━━━━━━━━━━━━━━━━━━━━━━━━━━━━━━━\u001b[0m \u001b[32m965.4/965.4 kB\u001b[0m \u001b[31m17.8 MB/s\u001b[0m eta \u001b[36m0:00:00\u001b[0m00:01\u001b[0m\n",
            "\u001b[?25hRequirement already satisfied: python-dateutil>=2.7 in /Users/user/opt/anaconda3/envs/reaper/lib/python3.10/site-packages (from matplotlib) (2.8.2)\n",
            "Requirement already satisfied: pyparsing>=2.2.1 in /Users/user/opt/anaconda3/envs/reaper/lib/python3.10/site-packages (from matplotlib) (3.0.9)\n",
            "Requirement already satisfied: pillow>=6.2.0 in /Users/user/opt/anaconda3/envs/reaper/lib/python3.10/site-packages (from matplotlib) (7.2.0)\n",
            "Collecting kiwisolver>=1.0.1\n",
            "  Downloading kiwisolver-1.4.4-cp310-cp310-macosx_10_9_x86_64.whl (65 kB)\n",
            "\u001b[2K     \u001b[90m━━━━━━━━━━━━━━━━━━━━━━━━━━━━━━━━━━━━━━━━\u001b[0m \u001b[32m65.5/65.5 kB\u001b[0m \u001b[31m2.5 MB/s\u001b[0m eta \u001b[36m0:00:00\u001b[0m\n",
            "\u001b[?25hCollecting cycler>=0.10\n",
            "  Using cached cycler-0.11.0-py3-none-any.whl (6.4 kB)\n",
            "Requirement already satisfied: numpy>=1.19 in /Users/user/opt/anaconda3/envs/reaper/lib/python3.10/site-packages (from matplotlib) (1.24.0)\n",
            "Requirement already satisfied: six>=1.5 in /Users/user/opt/anaconda3/envs/reaper/lib/python3.10/site-packages (from python-dateutil>=2.7->matplotlib) (1.16.0)\n",
            "Installing collected packages: kiwisolver, fonttools, cycler, contourpy, matplotlib\n",
            "Successfully installed contourpy-1.0.6 cycler-0.11.0 fonttools-4.38.0 kiwisolver-1.4.4 matplotlib-3.6.2\n"
          ]
        }
      ],
      "source": [
        "!pip install matplotlib"
      ]
    },
    {
      "cell_type": "code",
      "execution_count": null,
      "metadata": {
        "id": "OsBmkNTQEtxJ",
        "outputId": "d9ee36c5-d265-4d8c-d477-245f994165ef"
      },
      "outputs": [
        {
          "name": "stdout",
          "output_type": "stream",
          "text": [
            "Found existing installation: Pillow 7.2.0\n",
            "Uninstalling Pillow-7.2.0:\n",
            "  Would remove:\n",
            "    /Users/user/opt/anaconda3/envs/reaper/lib/python3.10/site-packages/PIL/*\n",
            "    /Users/user/opt/anaconda3/envs/reaper/lib/python3.10/site-packages/Pillow-7.2.0.dist-info/*\n",
            "Proceed (Y/n)? ^C\n",
            "\u001b[31mERROR: Operation cancelled by user\u001b[0m\u001b[31m\n",
            "\u001b[0m"
          ]
        }
      ],
      "source": [
        "!pip uninstall Pillow"
      ]
    },
    {
      "cell_type": "code",
      "execution_count": null,
      "metadata": {
        "id": "M4ow65QmEtxK",
        "outputId": "efd8f25b-84c0-414f-f26e-255409661e43"
      },
      "outputs": [
        {
          "ename": "ImportError",
          "evalue": "cannot import name 'DeferredError' from 'PIL._util' (/Users/user/opt/anaconda3/envs/reaper/lib/python3.10/site-packages/PIL/_util.py)",
          "output_type": "error",
          "traceback": [
            "\u001b[0;31m---------------------------------------------------------------------------\u001b[0m",
            "\u001b[0;31mImportError\u001b[0m                               Traceback (most recent call last)",
            "Cell \u001b[0;32mIn[18], line 1\u001b[0m\n\u001b[0;32m----> 1\u001b[0m \u001b[38;5;28;01mfrom\u001b[39;00m \u001b[38;5;21;01mmatplotlib\u001b[39;00m \u001b[38;5;28;01mimport\u001b[39;00m pyplot \u001b[38;5;28;01mas\u001b[39;00m plt\n",
            "File \u001b[0;32m~/opt/anaconda3/envs/reaper/lib/python3.10/site-packages/matplotlib/__init__.py:113\u001b[0m\n\u001b[1;32m    <a href='file:///Users/user/opt/anaconda3/envs/reaper/lib/python3.10/site-packages/matplotlib/__init__.py?line=108'>109</a>\u001b[0m \u001b[39mfrom\u001b[39;00m \u001b[39mpackaging\u001b[39;00m\u001b[39m.\u001b[39;00m\u001b[39mversion\u001b[39;00m \u001b[39mimport\u001b[39;00m parse \u001b[39mas\u001b[39;00m parse_version\n\u001b[1;32m    <a href='file:///Users/user/opt/anaconda3/envs/reaper/lib/python3.10/site-packages/matplotlib/__init__.py?line=110'>111</a>\u001b[0m \u001b[39m# cbook must import matplotlib only within function\u001b[39;00m\n\u001b[1;32m    <a href='file:///Users/user/opt/anaconda3/envs/reaper/lib/python3.10/site-packages/matplotlib/__init__.py?line=111'>112</a>\u001b[0m \u001b[39m# definitions, so it is safe to import from it here.\u001b[39;00m\n\u001b[0;32m--> <a href='file:///Users/user/opt/anaconda3/envs/reaper/lib/python3.10/site-packages/matplotlib/__init__.py?line=112'>113</a>\u001b[0m \u001b[39mfrom\u001b[39;00m \u001b[39m.\u001b[39;00m \u001b[39mimport\u001b[39;00m _api, _version, cbook, _docstring, rcsetup\n\u001b[1;32m    <a href='file:///Users/user/opt/anaconda3/envs/reaper/lib/python3.10/site-packages/matplotlib/__init__.py?line=113'>114</a>\u001b[0m \u001b[39mfrom\u001b[39;00m \u001b[39mmatplotlib\u001b[39;00m\u001b[39m.\u001b[39;00m\u001b[39mcbook\u001b[39;00m \u001b[39mimport\u001b[39;00m sanitize_sequence\n\u001b[1;32m    <a href='file:///Users/user/opt/anaconda3/envs/reaper/lib/python3.10/site-packages/matplotlib/__init__.py?line=114'>115</a>\u001b[0m \u001b[39mfrom\u001b[39;00m \u001b[39mmatplotlib\u001b[39;00m\u001b[39m.\u001b[39;00m\u001b[39m_api\u001b[39;00m \u001b[39mimport\u001b[39;00m MatplotlibDeprecationWarning\n",
            "File \u001b[0;32m~/opt/anaconda3/envs/reaper/lib/python3.10/site-packages/matplotlib/rcsetup.py:27\u001b[0m\n\u001b[1;32m     <a href='file:///Users/user/opt/anaconda3/envs/reaper/lib/python3.10/site-packages/matplotlib/rcsetup.py?line=24'>25</a>\u001b[0m \u001b[39mfrom\u001b[39;00m \u001b[39mmatplotlib\u001b[39;00m \u001b[39mimport\u001b[39;00m _api, cbook\n\u001b[1;32m     <a href='file:///Users/user/opt/anaconda3/envs/reaper/lib/python3.10/site-packages/matplotlib/rcsetup.py?line=25'>26</a>\u001b[0m \u001b[39mfrom\u001b[39;00m \u001b[39mmatplotlib\u001b[39;00m\u001b[39m.\u001b[39;00m\u001b[39mcbook\u001b[39;00m \u001b[39mimport\u001b[39;00m ls_mapper\n\u001b[0;32m---> <a href='file:///Users/user/opt/anaconda3/envs/reaper/lib/python3.10/site-packages/matplotlib/rcsetup.py?line=26'>27</a>\u001b[0m \u001b[39mfrom\u001b[39;00m \u001b[39mmatplotlib\u001b[39;00m\u001b[39m.\u001b[39;00m\u001b[39mcolors\u001b[39;00m \u001b[39mimport\u001b[39;00m Colormap, is_color_like\n\u001b[1;32m     <a href='file:///Users/user/opt/anaconda3/envs/reaper/lib/python3.10/site-packages/matplotlib/rcsetup.py?line=27'>28</a>\u001b[0m \u001b[39mfrom\u001b[39;00m \u001b[39mmatplotlib\u001b[39;00m\u001b[39m.\u001b[39;00m\u001b[39m_fontconfig_pattern\u001b[39;00m \u001b[39mimport\u001b[39;00m parse_fontconfig_pattern\n\u001b[1;32m     <a href='file:///Users/user/opt/anaconda3/envs/reaper/lib/python3.10/site-packages/matplotlib/rcsetup.py?line=28'>29</a>\u001b[0m \u001b[39mfrom\u001b[39;00m \u001b[39mmatplotlib\u001b[39;00m\u001b[39m.\u001b[39;00m\u001b[39m_enums\u001b[39;00m \u001b[39mimport\u001b[39;00m JoinStyle, CapStyle\n",
            "File \u001b[0;32m~/opt/anaconda3/envs/reaper/lib/python3.10/site-packages/matplotlib/colors.py:51\u001b[0m\n\u001b[1;32m     <a href='file:///Users/user/opt/anaconda3/envs/reaper/lib/python3.10/site-packages/matplotlib/colors.py?line=48'>49</a>\u001b[0m \u001b[39mfrom\u001b[39;00m \u001b[39mnumbers\u001b[39;00m \u001b[39mimport\u001b[39;00m Number\n\u001b[1;32m     <a href='file:///Users/user/opt/anaconda3/envs/reaper/lib/python3.10/site-packages/matplotlib/colors.py?line=49'>50</a>\u001b[0m \u001b[39mimport\u001b[39;00m \u001b[39mre\u001b[39;00m\n\u001b[0;32m---> <a href='file:///Users/user/opt/anaconda3/envs/reaper/lib/python3.10/site-packages/matplotlib/colors.py?line=50'>51</a>\u001b[0m \u001b[39mfrom\u001b[39;00m \u001b[39mPIL\u001b[39;00m \u001b[39mimport\u001b[39;00m Image\n\u001b[1;32m     <a href='file:///Users/user/opt/anaconda3/envs/reaper/lib/python3.10/site-packages/matplotlib/colors.py?line=51'>52</a>\u001b[0m \u001b[39mfrom\u001b[39;00m \u001b[39mPIL\u001b[39;00m\u001b[39m.\u001b[39;00m\u001b[39mPngImagePlugin\u001b[39;00m \u001b[39mimport\u001b[39;00m PngInfo\n\u001b[1;32m     <a href='file:///Users/user/opt/anaconda3/envs/reaper/lib/python3.10/site-packages/matplotlib/colors.py?line=53'>54</a>\u001b[0m \u001b[39mimport\u001b[39;00m \u001b[39mmatplotlib\u001b[39;00m \u001b[39mas\u001b[39;00m \u001b[39mmpl\u001b[39;00m\n",
            "File \u001b[0;32m~/opt/anaconda3/envs/reaper/lib/python3.10/site-packages/PIL/Image.py:53\u001b[0m\n\u001b[1;32m     <a href='file:///Users/user/opt/anaconda3/envs/reaper/lib/python3.10/site-packages/PIL/Image.py?line=41'>42</a>\u001b[0m \u001b[39m# VERSION was removed in Pillow 6.0.0.\u001b[39;00m\n\u001b[1;32m     <a href='file:///Users/user/opt/anaconda3/envs/reaper/lib/python3.10/site-packages/PIL/Image.py?line=42'>43</a>\u001b[0m \u001b[39m# PILLOW_VERSION is deprecated and will be removed in a future release.\u001b[39;00m\n\u001b[1;32m     <a href='file:///Users/user/opt/anaconda3/envs/reaper/lib/python3.10/site-packages/PIL/Image.py?line=43'>44</a>\u001b[0m \u001b[39m# Use __version__ instead.\u001b[39;00m\n\u001b[1;32m     <a href='file:///Users/user/opt/anaconda3/envs/reaper/lib/python3.10/site-packages/PIL/Image.py?line=44'>45</a>\u001b[0m \u001b[39mfrom\u001b[39;00m \u001b[39m.\u001b[39;00m \u001b[39mimport\u001b[39;00m (\n\u001b[1;32m     <a href='file:///Users/user/opt/anaconda3/envs/reaper/lib/python3.10/site-packages/PIL/Image.py?line=45'>46</a>\u001b[0m     ImageMode,\n\u001b[1;32m     <a href='file:///Users/user/opt/anaconda3/envs/reaper/lib/python3.10/site-packages/PIL/Image.py?line=46'>47</a>\u001b[0m     TiffTags,\n\u001b[0;32m   (...)\u001b[0m\n\u001b[1;32m     <a href='file:///Users/user/opt/anaconda3/envs/reaper/lib/python3.10/site-packages/PIL/Image.py?line=50'>51</a>\u001b[0m     _raise_version_warning,\n\u001b[1;32m     <a href='file:///Users/user/opt/anaconda3/envs/reaper/lib/python3.10/site-packages/PIL/Image.py?line=51'>52</a>\u001b[0m )\n\u001b[0;32m---> <a href='file:///Users/user/opt/anaconda3/envs/reaper/lib/python3.10/site-packages/PIL/Image.py?line=52'>53</a>\u001b[0m \u001b[39mfrom\u001b[39;00m \u001b[39m.\u001b[39;00m\u001b[39m_binary\u001b[39;00m \u001b[39mimport\u001b[39;00m i8, i32le\n\u001b[1;32m     <a href='file:///Users/user/opt/anaconda3/envs/reaper/lib/python3.10/site-packages/PIL/Image.py?line=53'>54</a>\u001b[0m \u001b[39mfrom\u001b[39;00m \u001b[39m.\u001b[39;00m\u001b[39m_util\u001b[39;00m \u001b[39mimport\u001b[39;00m deferred_error, isPath\n\u001b[1;32m     <a href='file:///Users/user/opt/anaconda3/envs/reaper/lib/python3.10/site-packages/PIL/Image.py?line=55'>56</a>\u001b[0m \u001b[39mif\u001b[39;00m sys\u001b[39m.\u001b[39mversion_info \u001b[39m>\u001b[39m\u001b[39m=\u001b[39m (\u001b[39m3\u001b[39m, \u001b[39m7\u001b[39m):\n",
            "\u001b[0;31mImportError\u001b[0m: cannot import name 'DeferredError' from 'PIL._util' (/Users/user/opt/anaconda3/envs/reaper/lib/python3.10/site-packages/PIL/_util.py)"
          ]
        }
      ],
      "source": [
        "from matplotlib import pyplot as plt"
      ]
    },
    {
      "cell_type": "code",
      "execution_count": null,
      "metadata": {
        "id": "cWOcJmAMNZPS",
        "outputId": "d40cde89-c691-445b-df7a-eb1502ce8a21"
      },
      "outputs": [
        {
          "ename": "ImportError",
          "evalue": "dlopen(/Users/user/opt/anaconda3/envs/reaper/lib/python3.10/site-packages/PIL/_imaging.cpython-310-darwin.so, 0x0002): symbol not found in flat namespace (_jpeg_resync_to_restart)",
          "output_type": "error",
          "traceback": [
            "\u001b[0;31m---------------------------------------------------------------------------\u001b[0m",
            "\u001b[0;31mImportError\u001b[0m                               Traceback (most recent call last)",
            "Cell \u001b[0;32mIn[11], line 2\u001b[0m\n\u001b[1;32m      1\u001b[0m \u001b[38;5;66;03m#@title Построение карты маршрута\u001b[39;00m\n\u001b[0;32m----> 2\u001b[0m \u001b[38;5;28;01mimport\u001b[39;00m \u001b[38;5;21;01mmatplotlib\u001b[39;00m\u001b[38;5;21;01m.\u001b[39;00m\u001b[38;5;21;01mpyplot\u001b[39;00m \u001b[38;5;28;01mas\u001b[39;00m \u001b[38;5;21;01mplt\u001b[39;00m\n\u001b[1;32m      4\u001b[0m \u001b[38;5;28;01mdef\u001b[39;00m \u001b[38;5;21mmake_maze_pic\u001b[39m(maze):\n\u001b[1;32m      5\u001b[0m   maze_pic\u001b[38;5;241m=\u001b[39m[]\n",
            "File \u001b[0;32m~/opt/anaconda3/envs/reaper/lib/python3.10/site-packages/matplotlib/__init__.py:113\u001b[0m\n\u001b[1;32m    <a href='file:///Users/user/opt/anaconda3/envs/reaper/lib/python3.10/site-packages/matplotlib/__init__.py?line=108'>109</a>\u001b[0m \u001b[39mfrom\u001b[39;00m \u001b[39mpackaging\u001b[39;00m\u001b[39m.\u001b[39;00m\u001b[39mversion\u001b[39;00m \u001b[39mimport\u001b[39;00m parse \u001b[39mas\u001b[39;00m parse_version\n\u001b[1;32m    <a href='file:///Users/user/opt/anaconda3/envs/reaper/lib/python3.10/site-packages/matplotlib/__init__.py?line=110'>111</a>\u001b[0m \u001b[39m# cbook must import matplotlib only within function\u001b[39;00m\n\u001b[1;32m    <a href='file:///Users/user/opt/anaconda3/envs/reaper/lib/python3.10/site-packages/matplotlib/__init__.py?line=111'>112</a>\u001b[0m \u001b[39m# definitions, so it is safe to import from it here.\u001b[39;00m\n\u001b[0;32m--> <a href='file:///Users/user/opt/anaconda3/envs/reaper/lib/python3.10/site-packages/matplotlib/__init__.py?line=112'>113</a>\u001b[0m \u001b[39mfrom\u001b[39;00m \u001b[39m.\u001b[39;00m \u001b[39mimport\u001b[39;00m _api, _version, cbook, _docstring, rcsetup\n\u001b[1;32m    <a href='file:///Users/user/opt/anaconda3/envs/reaper/lib/python3.10/site-packages/matplotlib/__init__.py?line=113'>114</a>\u001b[0m \u001b[39mfrom\u001b[39;00m \u001b[39mmatplotlib\u001b[39;00m\u001b[39m.\u001b[39;00m\u001b[39mcbook\u001b[39;00m \u001b[39mimport\u001b[39;00m sanitize_sequence\n\u001b[1;32m    <a href='file:///Users/user/opt/anaconda3/envs/reaper/lib/python3.10/site-packages/matplotlib/__init__.py?line=114'>115</a>\u001b[0m \u001b[39mfrom\u001b[39;00m \u001b[39mmatplotlib\u001b[39;00m\u001b[39m.\u001b[39;00m\u001b[39m_api\u001b[39;00m \u001b[39mimport\u001b[39;00m MatplotlibDeprecationWarning\n",
            "File \u001b[0;32m~/opt/anaconda3/envs/reaper/lib/python3.10/site-packages/matplotlib/rcsetup.py:27\u001b[0m\n\u001b[1;32m     <a href='file:///Users/user/opt/anaconda3/envs/reaper/lib/python3.10/site-packages/matplotlib/rcsetup.py?line=24'>25</a>\u001b[0m \u001b[39mfrom\u001b[39;00m \u001b[39mmatplotlib\u001b[39;00m \u001b[39mimport\u001b[39;00m _api, cbook\n\u001b[1;32m     <a href='file:///Users/user/opt/anaconda3/envs/reaper/lib/python3.10/site-packages/matplotlib/rcsetup.py?line=25'>26</a>\u001b[0m \u001b[39mfrom\u001b[39;00m \u001b[39mmatplotlib\u001b[39;00m\u001b[39m.\u001b[39;00m\u001b[39mcbook\u001b[39;00m \u001b[39mimport\u001b[39;00m ls_mapper\n\u001b[0;32m---> <a href='file:///Users/user/opt/anaconda3/envs/reaper/lib/python3.10/site-packages/matplotlib/rcsetup.py?line=26'>27</a>\u001b[0m \u001b[39mfrom\u001b[39;00m \u001b[39mmatplotlib\u001b[39;00m\u001b[39m.\u001b[39;00m\u001b[39mcolors\u001b[39;00m \u001b[39mimport\u001b[39;00m Colormap, is_color_like\n\u001b[1;32m     <a href='file:///Users/user/opt/anaconda3/envs/reaper/lib/python3.10/site-packages/matplotlib/rcsetup.py?line=27'>28</a>\u001b[0m \u001b[39mfrom\u001b[39;00m \u001b[39mmatplotlib\u001b[39;00m\u001b[39m.\u001b[39;00m\u001b[39m_fontconfig_pattern\u001b[39;00m \u001b[39mimport\u001b[39;00m parse_fontconfig_pattern\n\u001b[1;32m     <a href='file:///Users/user/opt/anaconda3/envs/reaper/lib/python3.10/site-packages/matplotlib/rcsetup.py?line=28'>29</a>\u001b[0m \u001b[39mfrom\u001b[39;00m \u001b[39mmatplotlib\u001b[39;00m\u001b[39m.\u001b[39;00m\u001b[39m_enums\u001b[39;00m \u001b[39mimport\u001b[39;00m JoinStyle, CapStyle\n",
            "File \u001b[0;32m~/opt/anaconda3/envs/reaper/lib/python3.10/site-packages/matplotlib/colors.py:51\u001b[0m\n\u001b[1;32m     <a href='file:///Users/user/opt/anaconda3/envs/reaper/lib/python3.10/site-packages/matplotlib/colors.py?line=48'>49</a>\u001b[0m \u001b[39mfrom\u001b[39;00m \u001b[39mnumbers\u001b[39;00m \u001b[39mimport\u001b[39;00m Number\n\u001b[1;32m     <a href='file:///Users/user/opt/anaconda3/envs/reaper/lib/python3.10/site-packages/matplotlib/colors.py?line=49'>50</a>\u001b[0m \u001b[39mimport\u001b[39;00m \u001b[39mre\u001b[39;00m\n\u001b[0;32m---> <a href='file:///Users/user/opt/anaconda3/envs/reaper/lib/python3.10/site-packages/matplotlib/colors.py?line=50'>51</a>\u001b[0m \u001b[39mfrom\u001b[39;00m \u001b[39mPIL\u001b[39;00m \u001b[39mimport\u001b[39;00m Image\n\u001b[1;32m     <a href='file:///Users/user/opt/anaconda3/envs/reaper/lib/python3.10/site-packages/matplotlib/colors.py?line=51'>52</a>\u001b[0m \u001b[39mfrom\u001b[39;00m \u001b[39mPIL\u001b[39;00m\u001b[39m.\u001b[39;00m\u001b[39mPngImagePlugin\u001b[39;00m \u001b[39mimport\u001b[39;00m PngInfo\n\u001b[1;32m     <a href='file:///Users/user/opt/anaconda3/envs/reaper/lib/python3.10/site-packages/matplotlib/colors.py?line=53'>54</a>\u001b[0m \u001b[39mimport\u001b[39;00m \u001b[39mmatplotlib\u001b[39;00m \u001b[39mas\u001b[39;00m \u001b[39mmpl\u001b[39;00m\n",
            "File \u001b[0;32m~/opt/anaconda3/envs/reaper/lib/python3.10/site-packages/PIL/Image.py:94\u001b[0m\n\u001b[1;32m     <a href='file:///Users/user/opt/anaconda3/envs/reaper/lib/python3.10/site-packages/PIL/Image.py?line=84'>85</a>\u001b[0m MAX_IMAGE_PIXELS \u001b[39m=\u001b[39m \u001b[39mint\u001b[39m(\u001b[39m1024\u001b[39m \u001b[39m*\u001b[39m \u001b[39m1024\u001b[39m \u001b[39m*\u001b[39m \u001b[39m1024\u001b[39m \u001b[39m/\u001b[39m\u001b[39m/\u001b[39m \u001b[39m4\u001b[39m \u001b[39m/\u001b[39m\u001b[39m/\u001b[39m \u001b[39m3\u001b[39m)\n\u001b[1;32m     <a href='file:///Users/user/opt/anaconda3/envs/reaper/lib/python3.10/site-packages/PIL/Image.py?line=87'>88</a>\u001b[0m \u001b[39mtry\u001b[39;00m:\n\u001b[1;32m     <a href='file:///Users/user/opt/anaconda3/envs/reaper/lib/python3.10/site-packages/PIL/Image.py?line=88'>89</a>\u001b[0m     \u001b[39m# If the _imaging C module is not present, Pillow will not load.\u001b[39;00m\n\u001b[1;32m     <a href='file:///Users/user/opt/anaconda3/envs/reaper/lib/python3.10/site-packages/PIL/Image.py?line=89'>90</a>\u001b[0m     \u001b[39m# Note that other modules should not refer to _imaging directly;\u001b[39;00m\n\u001b[1;32m     <a href='file:///Users/user/opt/anaconda3/envs/reaper/lib/python3.10/site-packages/PIL/Image.py?line=90'>91</a>\u001b[0m     \u001b[39m# import Image and use the Image.core variable instead.\u001b[39;00m\n\u001b[1;32m     <a href='file:///Users/user/opt/anaconda3/envs/reaper/lib/python3.10/site-packages/PIL/Image.py?line=91'>92</a>\u001b[0m     \u001b[39m# Also note that Image.core is not a publicly documented interface,\u001b[39;00m\n\u001b[1;32m     <a href='file:///Users/user/opt/anaconda3/envs/reaper/lib/python3.10/site-packages/PIL/Image.py?line=92'>93</a>\u001b[0m     \u001b[39m# and should be considered private and subject to change.\u001b[39;00m\n\u001b[0;32m---> <a href='file:///Users/user/opt/anaconda3/envs/reaper/lib/python3.10/site-packages/PIL/Image.py?line=93'>94</a>\u001b[0m     \u001b[39mfrom\u001b[39;00m \u001b[39m.\u001b[39;00m \u001b[39mimport\u001b[39;00m _imaging \u001b[39mas\u001b[39;00m core\n\u001b[1;32m     <a href='file:///Users/user/opt/anaconda3/envs/reaper/lib/python3.10/site-packages/PIL/Image.py?line=95'>96</a>\u001b[0m     \u001b[39mif\u001b[39;00m __version__ \u001b[39m!=\u001b[39m \u001b[39mgetattr\u001b[39m(core, \u001b[39m\"\u001b[39m\u001b[39mPILLOW_VERSION\u001b[39m\u001b[39m\"\u001b[39m, \u001b[39mNone\u001b[39;00m):\n\u001b[1;32m     <a href='file:///Users/user/opt/anaconda3/envs/reaper/lib/python3.10/site-packages/PIL/Image.py?line=96'>97</a>\u001b[0m         \u001b[39mraise\u001b[39;00m \u001b[39mImportError\u001b[39;00m(\n\u001b[1;32m     <a href='file:///Users/user/opt/anaconda3/envs/reaper/lib/python3.10/site-packages/PIL/Image.py?line=97'>98</a>\u001b[0m             \u001b[39m\"\u001b[39m\u001b[39mThe _imaging extension was built for another version of Pillow or PIL:\u001b[39m\u001b[39m\\n\u001b[39;00m\u001b[39m\"\u001b[39m\n\u001b[1;32m     <a href='file:///Users/user/opt/anaconda3/envs/reaper/lib/python3.10/site-packages/PIL/Image.py?line=98'>99</a>\u001b[0m             \u001b[39m\"\u001b[39m\u001b[39mCore version: \u001b[39m\u001b[39m%s\u001b[39;00m\u001b[39m\\n\u001b[39;00m\u001b[39m\"\u001b[39m\n\u001b[1;32m    <a href='file:///Users/user/opt/anaconda3/envs/reaper/lib/python3.10/site-packages/PIL/Image.py?line=99'>100</a>\u001b[0m             \u001b[39m\"\u001b[39m\u001b[39mPillow version: \u001b[39m\u001b[39m%s\u001b[39;00m\u001b[39m\"\u001b[39m \u001b[39m%\u001b[39m (\u001b[39mgetattr\u001b[39m(core, \u001b[39m\"\u001b[39m\u001b[39mPILLOW_VERSION\u001b[39m\u001b[39m\"\u001b[39m, \u001b[39mNone\u001b[39;00m), __version__)\n\u001b[1;32m    <a href='file:///Users/user/opt/anaconda3/envs/reaper/lib/python3.10/site-packages/PIL/Image.py?line=100'>101</a>\u001b[0m         )\n",
            "\u001b[0;31mImportError\u001b[0m: dlopen(/Users/user/opt/anaconda3/envs/reaper/lib/python3.10/site-packages/PIL/_imaging.cpython-310-darwin.so, 0x0002): symbol not found in flat namespace (_jpeg_resync_to_restart)"
          ]
        }
      ],
      "source": [
        "#@title Построение карты маршрута\n",
        "import matplotlib.pyplot as plt\n",
        "\n",
        "def make_maze_pic(maze):\n",
        "  maze_pic=[]\n",
        "  for i in range(len(maze)):\n",
        "    row = []\n",
        "    for j in range(len(maze[i])):\n",
        "      if maze[i][j] == 'S':\n",
        "        row.append(0)\n",
        "      if maze[i][j] == 'F':\n",
        "        row.append(0)\n",
        "      if maze[i][j] == 'H':\n",
        "        row.append(1)\n",
        "      if maze[i][j] == 'G':\n",
        "        row.append(0)\n",
        "    maze_pic.append(row)\n",
        "  maze_pic = np.array(maze_pic)\n",
        "  return maze_pic\n",
        "\n",
        "\n",
        "#Make maze fit to plot\n",
        "maze_pic = make_maze_pic(maze)\n",
        "nrows, ncols = maze_pic.shape\n",
        "\n",
        "#Arrays of picture elements\n",
        "rw = np.remainder(states,nrows)\n",
        "cl = np.floor_divide(states,nrows)\n",
        "rw = np.append(rw, [nrows-1])\n",
        "cl = np.append(cl,[ncols-1])\n",
        "\n",
        "#Picture plotting\n",
        "fig, ax1 = plt.subplots(1, 1, tight_layout=True)\n",
        "ax1.clear()\n",
        "ax1.set_xticks(np.arange(0.5, nrows, step=1))\n",
        "ax1.set_xticklabels([])\n",
        "ax1.set_yticks(np.arange(0.5, ncols, step=1))\n",
        "ax1.set_yticklabels([])\n",
        "ax1.grid(True)\n",
        "ax1.plot([0],[0], \"gs\", markersize=40)  # start is a big green square\n",
        "ax1.text(0, 0.2,\"Start\", ha=\"center\", va=\"center\", color=\"white\", fontsize=12) #Start text\n",
        "ax1.plot([nrows-1],[ncols-1], \"rs\", markersize=40)  # exit is a big red square\n",
        "ax1.text(nrows-1, ncols-1+0.2,\"Finish\", ha=\"center\", va=\"center\", color=\"white\", fontsize=12) #Exit text\n",
        "ax1.plot(rw,cl, ls = '-', color = 'blue') #Blue lines path\n",
        "ax1.plot(rw,cl, \"bo\")  # Blue dots visited cells\n",
        "ax1.imshow(maze_pic, cmap=\"binary\")\n",
        "\n"
      ]
    },
    {
      "cell_type": "code",
      "execution_count": null,
      "metadata": {
        "id": "r9dmFoYrEtxN"
      },
      "outputs": [],
      "source": []
    }
  ],
  "metadata": {
    "colab": {
      "provenance": [],
      "include_colab_link": true
    },
    "interpreter": {
      "hash": "8d59fdb3a3a508323541f45e48423c66275549c5bfddfbb000002ee85bbdd788"
    },
    "kernelspec": {
      "display_name": "Python 3.10.8 ('reaper')",
      "language": "python",
      "name": "python3"
    },
    "language_info": {
      "codemirror_mode": {
        "name": "ipython",
        "version": 3
      },
      "file_extension": ".py",
      "mimetype": "text/x-python",
      "name": "python",
      "nbconvert_exporter": "python",
      "pygments_lexer": "ipython3",
      "version": "3.10.8"
    }
  },
  "nbformat": 4,
  "nbformat_minor": 0
}