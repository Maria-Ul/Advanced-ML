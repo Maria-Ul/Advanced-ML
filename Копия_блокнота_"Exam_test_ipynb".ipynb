{
  "nbformat": 4,
  "nbformat_minor": 0,
  "metadata": {
    "colab": {
      "provenance": [],
      "include_colab_link": true
    },
    "kernelspec": {
      "name": "python3",
      "display_name": "Python 3"
    },
    "language_info": {
      "name": "python"
    }
  },
  "cells": [
    {
      "cell_type": "markdown",
      "metadata": {
        "id": "view-in-github",
        "colab_type": "text"
      },
      "source": [
        "<a href=\"https://colab.research.google.com/github/Maria-Ul/Advanced-ML/blob/main/%D0%9A%D0%BE%D0%BF%D0%B8%D1%8F_%D0%B1%D0%BB%D0%BE%D0%BA%D0%BD%D0%BE%D1%82%D0%B0_%22Exam_test_ipynb%22.ipynb\" target=\"_parent\"><img src=\"https://colab.research.google.com/assets/colab-badge.svg\" alt=\"Open In Colab\"/></a>"
      ]
    },
    {
      "cell_type": "code",
      "execution_count": null,
      "metadata": {
        "id": "PZgUBS_ZZdqW"
      },
      "outputs": [],
      "source": [
        "import numpy as np\n",
        "import pandas as pd"
      ]
    },
    {
      "cell_type": "markdown",
      "source": [
        "PULSAR_STARS_LOG_REG"
      ],
      "metadata": {
        "id": "0f-Nj0tLi8d5"
      }
    },
    {
      "cell_type": "code",
      "source": [
        "df = pd.read_csv(\"report.csv\")"
      ],
      "metadata": {
        "id": "SL65cCrOZ6zb"
      },
      "execution_count": null,
      "outputs": []
    },
    {
      "cell_type": "code",
      "source": [
        "df"
      ],
      "metadata": {
        "colab": {
          "base_uri": "https://localhost:8080/",
          "height": 423
        },
        "id": "Ruazggh_Z-9B",
        "outputId": "05eb75a2-b901-4c26-a8af-2fded9437e3e"
      },
      "execution_count": null,
      "outputs": [
        {
          "output_type": "execute_result",
          "data": {
            "text/plain": [
              "              MIP      STDIP      EKIP       SIP         MC       STDC  \\\n",
              "0      137.218750  45.390655  0.034985  0.134409   3.204013  17.177857   \n",
              "1       93.773438  41.883062  0.371402  1.291232   1.482441  12.959050   \n",
              "2       73.632812  35.461218  1.153607  4.161082   2.099498  13.057474   \n",
              "3       93.429688  39.883166  0.602060  1.518548   2.475753  14.146578   \n",
              "4      131.625000  44.111896  0.108905  0.239879  33.888796  70.398342   \n",
              "...           ...        ...       ...       ...        ...        ...   \n",
              "17893  121.117188  50.127279 -0.017936 -0.193900   1.566890  10.804730   \n",
              "17894  120.679688  40.918542  0.291465  0.627087   1.473244  13.912476   \n",
              "17895  138.101562  47.935314 -0.181827 -0.283746   3.270903  16.963817   \n",
              "17896  119.523438  44.198410  0.026662  0.352641   1.828595  12.674068   \n",
              "17897  154.875000  48.590766 -0.285643  0.129281   4.153010  21.971915   \n",
              "\n",
              "             EKC          SC  TARGET  \n",
              "0       7.494588   74.003104       0  \n",
              "1      12.242911  180.158844       0  \n",
              "2      10.013591  140.894151       0  \n",
              "3       8.770640  107.970173       0  \n",
              "4       1.689460    1.031847       0  \n",
              "...          ...         ...     ...  \n",
              "17893  13.737064  269.096109       0  \n",
              "17894  13.144044  203.416941       0  \n",
              "17895   6.988850   63.043499       0  \n",
              "17896  11.153939  166.582439       0  \n",
              "17897   6.746838   52.230021       0  \n",
              "\n",
              "[17898 rows x 9 columns]"
            ],
            "text/html": [
              "\n",
              "  <div id=\"df-c233dc43-7403-4e17-9788-8a6fc86cca44\">\n",
              "    <div class=\"colab-df-container\">\n",
              "      <div>\n",
              "<style scoped>\n",
              "    .dataframe tbody tr th:only-of-type {\n",
              "        vertical-align: middle;\n",
              "    }\n",
              "\n",
              "    .dataframe tbody tr th {\n",
              "        vertical-align: top;\n",
              "    }\n",
              "\n",
              "    .dataframe thead th {\n",
              "        text-align: right;\n",
              "    }\n",
              "</style>\n",
              "<table border=\"1\" class=\"dataframe\">\n",
              "  <thead>\n",
              "    <tr style=\"text-align: right;\">\n",
              "      <th></th>\n",
              "      <th>MIP</th>\n",
              "      <th>STDIP</th>\n",
              "      <th>EKIP</th>\n",
              "      <th>SIP</th>\n",
              "      <th>MC</th>\n",
              "      <th>STDC</th>\n",
              "      <th>EKC</th>\n",
              "      <th>SC</th>\n",
              "      <th>TARGET</th>\n",
              "    </tr>\n",
              "  </thead>\n",
              "  <tbody>\n",
              "    <tr>\n",
              "      <th>0</th>\n",
              "      <td>137.218750</td>\n",
              "      <td>45.390655</td>\n",
              "      <td>0.034985</td>\n",
              "      <td>0.134409</td>\n",
              "      <td>3.204013</td>\n",
              "      <td>17.177857</td>\n",
              "      <td>7.494588</td>\n",
              "      <td>74.003104</td>\n",
              "      <td>0</td>\n",
              "    </tr>\n",
              "    <tr>\n",
              "      <th>1</th>\n",
              "      <td>93.773438</td>\n",
              "      <td>41.883062</td>\n",
              "      <td>0.371402</td>\n",
              "      <td>1.291232</td>\n",
              "      <td>1.482441</td>\n",
              "      <td>12.959050</td>\n",
              "      <td>12.242911</td>\n",
              "      <td>180.158844</td>\n",
              "      <td>0</td>\n",
              "    </tr>\n",
              "    <tr>\n",
              "      <th>2</th>\n",
              "      <td>73.632812</td>\n",
              "      <td>35.461218</td>\n",
              "      <td>1.153607</td>\n",
              "      <td>4.161082</td>\n",
              "      <td>2.099498</td>\n",
              "      <td>13.057474</td>\n",
              "      <td>10.013591</td>\n",
              "      <td>140.894151</td>\n",
              "      <td>0</td>\n",
              "    </tr>\n",
              "    <tr>\n",
              "      <th>3</th>\n",
              "      <td>93.429688</td>\n",
              "      <td>39.883166</td>\n",
              "      <td>0.602060</td>\n",
              "      <td>1.518548</td>\n",
              "      <td>2.475753</td>\n",
              "      <td>14.146578</td>\n",
              "      <td>8.770640</td>\n",
              "      <td>107.970173</td>\n",
              "      <td>0</td>\n",
              "    </tr>\n",
              "    <tr>\n",
              "      <th>4</th>\n",
              "      <td>131.625000</td>\n",
              "      <td>44.111896</td>\n",
              "      <td>0.108905</td>\n",
              "      <td>0.239879</td>\n",
              "      <td>33.888796</td>\n",
              "      <td>70.398342</td>\n",
              "      <td>1.689460</td>\n",
              "      <td>1.031847</td>\n",
              "      <td>0</td>\n",
              "    </tr>\n",
              "    <tr>\n",
              "      <th>...</th>\n",
              "      <td>...</td>\n",
              "      <td>...</td>\n",
              "      <td>...</td>\n",
              "      <td>...</td>\n",
              "      <td>...</td>\n",
              "      <td>...</td>\n",
              "      <td>...</td>\n",
              "      <td>...</td>\n",
              "      <td>...</td>\n",
              "    </tr>\n",
              "    <tr>\n",
              "      <th>17893</th>\n",
              "      <td>121.117188</td>\n",
              "      <td>50.127279</td>\n",
              "      <td>-0.017936</td>\n",
              "      <td>-0.193900</td>\n",
              "      <td>1.566890</td>\n",
              "      <td>10.804730</td>\n",
              "      <td>13.737064</td>\n",
              "      <td>269.096109</td>\n",
              "      <td>0</td>\n",
              "    </tr>\n",
              "    <tr>\n",
              "      <th>17894</th>\n",
              "      <td>120.679688</td>\n",
              "      <td>40.918542</td>\n",
              "      <td>0.291465</td>\n",
              "      <td>0.627087</td>\n",
              "      <td>1.473244</td>\n",
              "      <td>13.912476</td>\n",
              "      <td>13.144044</td>\n",
              "      <td>203.416941</td>\n",
              "      <td>0</td>\n",
              "    </tr>\n",
              "    <tr>\n",
              "      <th>17895</th>\n",
              "      <td>138.101562</td>\n",
              "      <td>47.935314</td>\n",
              "      <td>-0.181827</td>\n",
              "      <td>-0.283746</td>\n",
              "      <td>3.270903</td>\n",
              "      <td>16.963817</td>\n",
              "      <td>6.988850</td>\n",
              "      <td>63.043499</td>\n",
              "      <td>0</td>\n",
              "    </tr>\n",
              "    <tr>\n",
              "      <th>17896</th>\n",
              "      <td>119.523438</td>\n",
              "      <td>44.198410</td>\n",
              "      <td>0.026662</td>\n",
              "      <td>0.352641</td>\n",
              "      <td>1.828595</td>\n",
              "      <td>12.674068</td>\n",
              "      <td>11.153939</td>\n",
              "      <td>166.582439</td>\n",
              "      <td>0</td>\n",
              "    </tr>\n",
              "    <tr>\n",
              "      <th>17897</th>\n",
              "      <td>154.875000</td>\n",
              "      <td>48.590766</td>\n",
              "      <td>-0.285643</td>\n",
              "      <td>0.129281</td>\n",
              "      <td>4.153010</td>\n",
              "      <td>21.971915</td>\n",
              "      <td>6.746838</td>\n",
              "      <td>52.230021</td>\n",
              "      <td>0</td>\n",
              "    </tr>\n",
              "  </tbody>\n",
              "</table>\n",
              "<p>17898 rows × 9 columns</p>\n",
              "</div>\n",
              "      <button class=\"colab-df-convert\" onclick=\"convertToInteractive('df-c233dc43-7403-4e17-9788-8a6fc86cca44')\"\n",
              "              title=\"Convert this dataframe to an interactive table.\"\n",
              "              style=\"display:none;\">\n",
              "        \n",
              "  <svg xmlns=\"http://www.w3.org/2000/svg\" height=\"24px\"viewBox=\"0 0 24 24\"\n",
              "       width=\"24px\">\n",
              "    <path d=\"M0 0h24v24H0V0z\" fill=\"none\"/>\n",
              "    <path d=\"M18.56 5.44l.94 2.06.94-2.06 2.06-.94-2.06-.94-.94-2.06-.94 2.06-2.06.94zm-11 1L8.5 8.5l.94-2.06 2.06-.94-2.06-.94L8.5 2.5l-.94 2.06-2.06.94zm10 10l.94 2.06.94-2.06 2.06-.94-2.06-.94-.94-2.06-.94 2.06-2.06.94z\"/><path d=\"M17.41 7.96l-1.37-1.37c-.4-.4-.92-.59-1.43-.59-.52 0-1.04.2-1.43.59L10.3 9.45l-7.72 7.72c-.78.78-.78 2.05 0 2.83L4 21.41c.39.39.9.59 1.41.59.51 0 1.02-.2 1.41-.59l7.78-7.78 2.81-2.81c.8-.78.8-2.07 0-2.86zM5.41 20L4 18.59l7.72-7.72 1.47 1.35L5.41 20z\"/>\n",
              "  </svg>\n",
              "      </button>\n",
              "      \n",
              "  <style>\n",
              "    .colab-df-container {\n",
              "      display:flex;\n",
              "      flex-wrap:wrap;\n",
              "      gap: 12px;\n",
              "    }\n",
              "\n",
              "    .colab-df-convert {\n",
              "      background-color: #E8F0FE;\n",
              "      border: none;\n",
              "      border-radius: 50%;\n",
              "      cursor: pointer;\n",
              "      display: none;\n",
              "      fill: #1967D2;\n",
              "      height: 32px;\n",
              "      padding: 0 0 0 0;\n",
              "      width: 32px;\n",
              "    }\n",
              "\n",
              "    .colab-df-convert:hover {\n",
              "      background-color: #E2EBFA;\n",
              "      box-shadow: 0px 1px 2px rgba(60, 64, 67, 0.3), 0px 1px 3px 1px rgba(60, 64, 67, 0.15);\n",
              "      fill: #174EA6;\n",
              "    }\n",
              "\n",
              "    [theme=dark] .colab-df-convert {\n",
              "      background-color: #3B4455;\n",
              "      fill: #D2E3FC;\n",
              "    }\n",
              "\n",
              "    [theme=dark] .colab-df-convert:hover {\n",
              "      background-color: #434B5C;\n",
              "      box-shadow: 0px 1px 3px 1px rgba(0, 0, 0, 0.15);\n",
              "      filter: drop-shadow(0px 1px 2px rgba(0, 0, 0, 0.3));\n",
              "      fill: #FFFFFF;\n",
              "    }\n",
              "  </style>\n",
              "\n",
              "      <script>\n",
              "        const buttonEl =\n",
              "          document.querySelector('#df-c233dc43-7403-4e17-9788-8a6fc86cca44 button.colab-df-convert');\n",
              "        buttonEl.style.display =\n",
              "          google.colab.kernel.accessAllowed ? 'block' : 'none';\n",
              "\n",
              "        async function convertToInteractive(key) {\n",
              "          const element = document.querySelector('#df-c233dc43-7403-4e17-9788-8a6fc86cca44');\n",
              "          const dataTable =\n",
              "            await google.colab.kernel.invokeFunction('convertToInteractive',\n",
              "                                                     [key], {});\n",
              "          if (!dataTable) return;\n",
              "\n",
              "          const docLinkHtml = 'Like what you see? Visit the ' +\n",
              "            '<a target=\"_blank\" href=https://colab.research.google.com/notebooks/data_table.ipynb>data table notebook</a>'\n",
              "            + ' to learn more about interactive tables.';\n",
              "          element.innerHTML = '';\n",
              "          dataTable['output_type'] = 'display_data';\n",
              "          await google.colab.output.renderOutput(dataTable, element);\n",
              "          const docLink = document.createElement('div');\n",
              "          docLink.innerHTML = docLinkHtml;\n",
              "          element.appendChild(docLink);\n",
              "        }\n",
              "      </script>\n",
              "    </div>\n",
              "  </div>\n",
              "  "
            ]
          },
          "metadata": {},
          "execution_count": 5
        }
      ]
    },
    {
      "cell_type": "code",
      "source": [
        "len1 = df[(df['TARGET'] == 0) & (df['MIP']<= 85.5234375) & (df['MIP']>= 84.3515625)]"
      ],
      "metadata": {
        "id": "WdyGl1loaG16"
      },
      "execution_count": null,
      "outputs": []
    },
    {
      "cell_type": "code",
      "source": [
        "len2 = df[(df['TARGET'] == 1) & (df['MIP']<= 92.6015625) & (df['MIP']>= 83.7734375)]"
      ],
      "metadata": {
        "id": "nzJrh0x-bc-f"
      },
      "execution_count": null,
      "outputs": []
    },
    {
      "cell_type": "code",
      "source": [
        "new_df = pd.concat([len1,len2])"
      ],
      "metadata": {
        "id": "LHnag9txcHYd"
      },
      "execution_count": null,
      "outputs": []
    },
    {
      "cell_type": "code",
      "source": [
        "new_df"
      ],
      "metadata": {
        "colab": {
          "base_uri": "https://localhost:8080/",
          "height": 423
        },
        "id": "rjT3j1QhcLK2",
        "outputId": "cd7b2663-8805-45a3-8ef9-15615219f970"
      },
      "execution_count": null,
      "outputs": [
        {
          "output_type": "execute_result",
          "data": {
            "text/plain": [
              "             MIP      STDIP      EKIP       SIP          MC       STDC  \\\n",
              "169    85.523438  36.694040  0.733149  2.476574    1.957358  18.373467   \n",
              "172    84.804688  42.764263  0.737207  1.028280    1.005853  12.100228   \n",
              "819    85.117188  36.178512  0.475873  2.818428    1.544314  13.497512   \n",
              "1199   84.851562  39.852872  0.561781  1.296228    3.922241  21.742599   \n",
              "1217   84.468750  37.917043  0.585513  2.010289    3.584448  19.414388   \n",
              "...          ...        ...       ...       ...         ...        ...   \n",
              "16585  90.570312  54.453203  1.238812  0.880610  152.419732  73.971777   \n",
              "16660  92.476562  57.866760  1.241077  0.934114  151.443980  81.297233   \n",
              "16921  84.054688  51.992083  0.818566  0.037858  158.000836  95.239274   \n",
              "17425  84.695312  49.348499  0.960378  1.102570    5.490803  27.764100   \n",
              "17467  83.773438  52.279031  1.206698  1.630834   97.373746  90.905524   \n",
              "\n",
              "             EKC          SC  TARGET  \n",
              "169    10.403406  114.392908       0  \n",
              "172    15.973736  291.146142       0  \n",
              "819    12.103830  173.321794       0  \n",
              "1199    6.774843   51.058339       0  \n",
              "1217    6.721415   53.133539       0  \n",
              "...          ...         ...     ...  \n",
              "16585  -0.933088   -0.371532       1  \n",
              "16660  -0.720683   -0.713868       1  \n",
              "16921  -0.799085   -1.044223       1  \n",
              "17425   6.181768   40.399247       1  \n",
              "17467   0.132639   -1.683188       1  \n",
              "\n",
              "[202 rows x 9 columns]"
            ],
            "text/html": [
              "\n",
              "  <div id=\"df-aec58b33-1325-437f-8f46-3522fc569bae\">\n",
              "    <div class=\"colab-df-container\">\n",
              "      <div>\n",
              "<style scoped>\n",
              "    .dataframe tbody tr th:only-of-type {\n",
              "        vertical-align: middle;\n",
              "    }\n",
              "\n",
              "    .dataframe tbody tr th {\n",
              "        vertical-align: top;\n",
              "    }\n",
              "\n",
              "    .dataframe thead th {\n",
              "        text-align: right;\n",
              "    }\n",
              "</style>\n",
              "<table border=\"1\" class=\"dataframe\">\n",
              "  <thead>\n",
              "    <tr style=\"text-align: right;\">\n",
              "      <th></th>\n",
              "      <th>MIP</th>\n",
              "      <th>STDIP</th>\n",
              "      <th>EKIP</th>\n",
              "      <th>SIP</th>\n",
              "      <th>MC</th>\n",
              "      <th>STDC</th>\n",
              "      <th>EKC</th>\n",
              "      <th>SC</th>\n",
              "      <th>TARGET</th>\n",
              "    </tr>\n",
              "  </thead>\n",
              "  <tbody>\n",
              "    <tr>\n",
              "      <th>169</th>\n",
              "      <td>85.523438</td>\n",
              "      <td>36.694040</td>\n",
              "      <td>0.733149</td>\n",
              "      <td>2.476574</td>\n",
              "      <td>1.957358</td>\n",
              "      <td>18.373467</td>\n",
              "      <td>10.403406</td>\n",
              "      <td>114.392908</td>\n",
              "      <td>0</td>\n",
              "    </tr>\n",
              "    <tr>\n",
              "      <th>172</th>\n",
              "      <td>84.804688</td>\n",
              "      <td>42.764263</td>\n",
              "      <td>0.737207</td>\n",
              "      <td>1.028280</td>\n",
              "      <td>1.005853</td>\n",
              "      <td>12.100228</td>\n",
              "      <td>15.973736</td>\n",
              "      <td>291.146142</td>\n",
              "      <td>0</td>\n",
              "    </tr>\n",
              "    <tr>\n",
              "      <th>819</th>\n",
              "      <td>85.117188</td>\n",
              "      <td>36.178512</td>\n",
              "      <td>0.475873</td>\n",
              "      <td>2.818428</td>\n",
              "      <td>1.544314</td>\n",
              "      <td>13.497512</td>\n",
              "      <td>12.103830</td>\n",
              "      <td>173.321794</td>\n",
              "      <td>0</td>\n",
              "    </tr>\n",
              "    <tr>\n",
              "      <th>1199</th>\n",
              "      <td>84.851562</td>\n",
              "      <td>39.852872</td>\n",
              "      <td>0.561781</td>\n",
              "      <td>1.296228</td>\n",
              "      <td>3.922241</td>\n",
              "      <td>21.742599</td>\n",
              "      <td>6.774843</td>\n",
              "      <td>51.058339</td>\n",
              "      <td>0</td>\n",
              "    </tr>\n",
              "    <tr>\n",
              "      <th>1217</th>\n",
              "      <td>84.468750</td>\n",
              "      <td>37.917043</td>\n",
              "      <td>0.585513</td>\n",
              "      <td>2.010289</td>\n",
              "      <td>3.584448</td>\n",
              "      <td>19.414388</td>\n",
              "      <td>6.721415</td>\n",
              "      <td>53.133539</td>\n",
              "      <td>0</td>\n",
              "    </tr>\n",
              "    <tr>\n",
              "      <th>...</th>\n",
              "      <td>...</td>\n",
              "      <td>...</td>\n",
              "      <td>...</td>\n",
              "      <td>...</td>\n",
              "      <td>...</td>\n",
              "      <td>...</td>\n",
              "      <td>...</td>\n",
              "      <td>...</td>\n",
              "      <td>...</td>\n",
              "    </tr>\n",
              "    <tr>\n",
              "      <th>16585</th>\n",
              "      <td>90.570312</td>\n",
              "      <td>54.453203</td>\n",
              "      <td>1.238812</td>\n",
              "      <td>0.880610</td>\n",
              "      <td>152.419732</td>\n",
              "      <td>73.971777</td>\n",
              "      <td>-0.933088</td>\n",
              "      <td>-0.371532</td>\n",
              "      <td>1</td>\n",
              "    </tr>\n",
              "    <tr>\n",
              "      <th>16660</th>\n",
              "      <td>92.476562</td>\n",
              "      <td>57.866760</td>\n",
              "      <td>1.241077</td>\n",
              "      <td>0.934114</td>\n",
              "      <td>151.443980</td>\n",
              "      <td>81.297233</td>\n",
              "      <td>-0.720683</td>\n",
              "      <td>-0.713868</td>\n",
              "      <td>1</td>\n",
              "    </tr>\n",
              "    <tr>\n",
              "      <th>16921</th>\n",
              "      <td>84.054688</td>\n",
              "      <td>51.992083</td>\n",
              "      <td>0.818566</td>\n",
              "      <td>0.037858</td>\n",
              "      <td>158.000836</td>\n",
              "      <td>95.239274</td>\n",
              "      <td>-0.799085</td>\n",
              "      <td>-1.044223</td>\n",
              "      <td>1</td>\n",
              "    </tr>\n",
              "    <tr>\n",
              "      <th>17425</th>\n",
              "      <td>84.695312</td>\n",
              "      <td>49.348499</td>\n",
              "      <td>0.960378</td>\n",
              "      <td>1.102570</td>\n",
              "      <td>5.490803</td>\n",
              "      <td>27.764100</td>\n",
              "      <td>6.181768</td>\n",
              "      <td>40.399247</td>\n",
              "      <td>1</td>\n",
              "    </tr>\n",
              "    <tr>\n",
              "      <th>17467</th>\n",
              "      <td>83.773438</td>\n",
              "      <td>52.279031</td>\n",
              "      <td>1.206698</td>\n",
              "      <td>1.630834</td>\n",
              "      <td>97.373746</td>\n",
              "      <td>90.905524</td>\n",
              "      <td>0.132639</td>\n",
              "      <td>-1.683188</td>\n",
              "      <td>1</td>\n",
              "    </tr>\n",
              "  </tbody>\n",
              "</table>\n",
              "<p>202 rows × 9 columns</p>\n",
              "</div>\n",
              "      <button class=\"colab-df-convert\" onclick=\"convertToInteractive('df-aec58b33-1325-437f-8f46-3522fc569bae')\"\n",
              "              title=\"Convert this dataframe to an interactive table.\"\n",
              "              style=\"display:none;\">\n",
              "        \n",
              "  <svg xmlns=\"http://www.w3.org/2000/svg\" height=\"24px\"viewBox=\"0 0 24 24\"\n",
              "       width=\"24px\">\n",
              "    <path d=\"M0 0h24v24H0V0z\" fill=\"none\"/>\n",
              "    <path d=\"M18.56 5.44l.94 2.06.94-2.06 2.06-.94-2.06-.94-.94-2.06-.94 2.06-2.06.94zm-11 1L8.5 8.5l.94-2.06 2.06-.94-2.06-.94L8.5 2.5l-.94 2.06-2.06.94zm10 10l.94 2.06.94-2.06 2.06-.94-2.06-.94-.94-2.06-.94 2.06-2.06.94z\"/><path d=\"M17.41 7.96l-1.37-1.37c-.4-.4-.92-.59-1.43-.59-.52 0-1.04.2-1.43.59L10.3 9.45l-7.72 7.72c-.78.78-.78 2.05 0 2.83L4 21.41c.39.39.9.59 1.41.59.51 0 1.02-.2 1.41-.59l7.78-7.78 2.81-2.81c.8-.78.8-2.07 0-2.86zM5.41 20L4 18.59l7.72-7.72 1.47 1.35L5.41 20z\"/>\n",
              "  </svg>\n",
              "      </button>\n",
              "      \n",
              "  <style>\n",
              "    .colab-df-container {\n",
              "      display:flex;\n",
              "      flex-wrap:wrap;\n",
              "      gap: 12px;\n",
              "    }\n",
              "\n",
              "    .colab-df-convert {\n",
              "      background-color: #E8F0FE;\n",
              "      border: none;\n",
              "      border-radius: 50%;\n",
              "      cursor: pointer;\n",
              "      display: none;\n",
              "      fill: #1967D2;\n",
              "      height: 32px;\n",
              "      padding: 0 0 0 0;\n",
              "      width: 32px;\n",
              "    }\n",
              "\n",
              "    .colab-df-convert:hover {\n",
              "      background-color: #E2EBFA;\n",
              "      box-shadow: 0px 1px 2px rgba(60, 64, 67, 0.3), 0px 1px 3px 1px rgba(60, 64, 67, 0.15);\n",
              "      fill: #174EA6;\n",
              "    }\n",
              "\n",
              "    [theme=dark] .colab-df-convert {\n",
              "      background-color: #3B4455;\n",
              "      fill: #D2E3FC;\n",
              "    }\n",
              "\n",
              "    [theme=dark] .colab-df-convert:hover {\n",
              "      background-color: #434B5C;\n",
              "      box-shadow: 0px 1px 3px 1px rgba(0, 0, 0, 0.15);\n",
              "      filter: drop-shadow(0px 1px 2px rgba(0, 0, 0, 0.3));\n",
              "      fill: #FFFFFF;\n",
              "    }\n",
              "  </style>\n",
              "\n",
              "      <script>\n",
              "        const buttonEl =\n",
              "          document.querySelector('#df-aec58b33-1325-437f-8f46-3522fc569bae button.colab-df-convert');\n",
              "        buttonEl.style.display =\n",
              "          google.colab.kernel.accessAllowed ? 'block' : 'none';\n",
              "\n",
              "        async function convertToInteractive(key) {\n",
              "          const element = document.querySelector('#df-aec58b33-1325-437f-8f46-3522fc569bae');\n",
              "          const dataTable =\n",
              "            await google.colab.kernel.invokeFunction('convertToInteractive',\n",
              "                                                     [key], {});\n",
              "          if (!dataTable) return;\n",
              "\n",
              "          const docLinkHtml = 'Like what you see? Visit the ' +\n",
              "            '<a target=\"_blank\" href=https://colab.research.google.com/notebooks/data_table.ipynb>data table notebook</a>'\n",
              "            + ' to learn more about interactive tables.';\n",
              "          element.innerHTML = '';\n",
              "          dataTable['output_type'] = 'display_data';\n",
              "          await google.colab.output.renderOutput(dataTable, element);\n",
              "          const docLink = document.createElement('div');\n",
              "          docLink.innerHTML = docLinkHtml;\n",
              "          element.appendChild(docLink);\n",
              "        }\n",
              "      </script>\n",
              "    </div>\n",
              "  </div>\n",
              "  "
            ]
          },
          "metadata": {},
          "execution_count": 9
        }
      ]
    },
    {
      "cell_type": "code",
      "source": [
        "from sklearn.preprocessing import MinMaxScaler\n",
        "from sklearn.linear_model import LogisticRegression"
      ],
      "metadata": {
        "id": "UYows4D0dPHI"
      },
      "execution_count": null,
      "outputs": []
    },
    {
      "cell_type": "code",
      "source": [
        "y = new_df['TARGET']\n",
        "X = new_df.drop(['TARGET'],axis=1)"
      ],
      "metadata": {
        "id": "2WY19f8He88T"
      },
      "execution_count": null,
      "outputs": []
    },
    {
      "cell_type": "code",
      "source": [
        "#normalized_df=(X-X.mean())/X.std()"
      ],
      "metadata": {
        "id": "-zzEMwjshVGD"
      },
      "execution_count": null,
      "outputs": []
    },
    {
      "cell_type": "code",
      "source": [
        "scaler = MinMaxScaler()\n",
        "X = scaler.fit_transform(X)"
      ],
      "metadata": {
        "id": "8RC9ZEORjc2v"
      },
      "execution_count": null,
      "outputs": []
    },
    {
      "cell_type": "code",
      "source": [
        "np.round(X[:,0].mean(),3)"
      ],
      "metadata": {
        "colab": {
          "base_uri": "https://localhost:8080/"
        },
        "id": "XxuVV3zshXBy",
        "outputId": "7166eb2a-9db4-42f0-834d-c989a0dd0b5c"
      },
      "execution_count": null,
      "outputs": [
        {
          "output_type": "execute_result",
          "data": {
            "text/plain": [
              "0.3"
            ]
          },
          "metadata": {},
          "execution_count": 26
        }
      ]
    },
    {
      "cell_type": "code",
      "source": [
        "logreg = LogisticRegression(random_state=15, solver='lbfgs')"
      ],
      "metadata": {
        "id": "Wu3DCdvnegYG"
      },
      "execution_count": null,
      "outputs": []
    },
    {
      "cell_type": "code",
      "source": [
        "clf = logreg.fit(X,y)"
      ],
      "metadata": {
        "id": "RwVWn1AAepAM"
      },
      "execution_count": null,
      "outputs": []
    },
    {
      "cell_type": "code",
      "source": [
        "ex = [0.237, 0.684, 0.234, 0.169, 0.149, 0.674, 0.462, 0.82]\n",
        "ex = np.reshape(ex,[1,-1])"
      ],
      "metadata": {
        "id": "BkUpL1dZfhBQ"
      },
      "execution_count": null,
      "outputs": []
    },
    {
      "cell_type": "code",
      "source": [
        "ex.shape"
      ],
      "metadata": {
        "colab": {
          "base_uri": "https://localhost:8080/"
        },
        "id": "Kz0V9jU1fpk1",
        "outputId": "dc424003-6061-4f34-b008-2d1848bd075e"
      },
      "execution_count": null,
      "outputs": [
        {
          "output_type": "execute_result",
          "data": {
            "text/plain": [
              "(1, 8)"
            ]
          },
          "metadata": {},
          "execution_count": 30
        }
      ]
    },
    {
      "cell_type": "code",
      "source": [
        "np.round(clf.predict_proba(ex)[:,1],3)"
      ],
      "metadata": {
        "colab": {
          "base_uri": "https://localhost:8080/"
        },
        "id": "CzBVrroLfbdz",
        "outputId": "4cc818c4-b847-4014-b063-edbcd28a8518"
      },
      "execution_count": null,
      "outputs": [
        {
          "output_type": "execute_result",
          "data": {
            "text/plain": [
              "array([0.53])"
            ]
          },
          "metadata": {},
          "execution_count": 34
        }
      ]
    },
    {
      "cell_type": "code",
      "source": [],
      "metadata": {
        "id": "aUp0RgXYjCyO"
      },
      "execution_count": null,
      "outputs": []
    },
    {
      "cell_type": "markdown",
      "source": [
        "MNIST"
      ],
      "metadata": {
        "id": "_gwmtccqjC9G"
      }
    },
    {
      "cell_type": "code",
      "source": [
        "! pip install scikit-learn==0.23.0"
      ],
      "metadata": {
        "colab": {
          "base_uri": "https://localhost:8080/"
        },
        "id": "0alSQpcEjEmY",
        "outputId": "6ffea89c-5597-4e8e-fb36-3563785c12e8"
      },
      "execution_count": null,
      "outputs": [
        {
          "output_type": "stream",
          "name": "stdout",
          "text": [
            "Looking in indexes: https://pypi.org/simple, https://us-python.pkg.dev/colab-wheels/public/simple/\n",
            "Collecting scikit-learn==0.23.0\n",
            "  Downloading scikit_learn-0.23.0-cp38-cp38-manylinux1_x86_64.whl (7.2 MB)\n",
            "\u001b[K     |████████████████████████████████| 7.2 MB 5.3 MB/s \n",
            "\u001b[?25hRequirement already satisfied: joblib>=0.11 in /usr/local/lib/python3.8/dist-packages (from scikit-learn==0.23.0) (1.2.0)\n",
            "Requirement already satisfied: scipy>=0.19.1 in /usr/local/lib/python3.8/dist-packages (from scikit-learn==0.23.0) (1.7.3)\n",
            "Requirement already satisfied: numpy>=1.13.3 in /usr/local/lib/python3.8/dist-packages (from scikit-learn==0.23.0) (1.21.6)\n",
            "Requirement already satisfied: threadpoolctl>=2.0.0 in /usr/local/lib/python3.8/dist-packages (from scikit-learn==0.23.0) (3.1.0)\n",
            "Installing collected packages: scikit-learn\n",
            "  Attempting uninstall: scikit-learn\n",
            "    Found existing installation: scikit-learn 1.0.2\n",
            "    Uninstalling scikit-learn-1.0.2:\n",
            "      Successfully uninstalled scikit-learn-1.0.2\n",
            "\u001b[31mERROR: pip's dependency resolver does not currently take into account all the packages that are installed. This behaviour is the source of the following dependency conflicts.\n",
            "yellowbrick 1.5 requires scikit-learn>=1.0.0, but you have scikit-learn 0.23.0 which is incompatible.\n",
            "imbalanced-learn 0.8.1 requires scikit-learn>=0.24, but you have scikit-learn 0.23.0 which is incompatible.\u001b[0m\n",
            "Successfully installed scikit-learn-0.23.0\n"
          ]
        }
      ]
    },
    {
      "cell_type": "code",
      "source": [
        "import tensorflow.keras\n",
        "from sklearn.decomposition import PCA\n",
        "from sklearn.model_selection import train_test_split\n",
        "import numpy as np\n",
        "import pandas as pd"
      ],
      "metadata": {
        "id": "EI2sCnx2sC9t"
      },
      "execution_count": null,
      "outputs": []
    },
    {
      "cell_type": "code",
      "source": [
        "(x_train, y_train), (x_test, y_test) = tensorflow.keras.datasets.mnist.load_data()"
      ],
      "metadata": {
        "id": "cmQEjslgjL1e"
      },
      "execution_count": null,
      "outputs": []
    },
    {
      "cell_type": "code",
      "source": [
        "x_train.shape\n",
        "y_train.shape"
      ],
      "metadata": {
        "colab": {
          "base_uri": "https://localhost:8080/"
        },
        "id": "18t4zD10sF3b",
        "outputId": "d8898595-e5c0-496a-b40c-4a74b55e12cb"
      },
      "execution_count": null,
      "outputs": [
        {
          "output_type": "execute_result",
          "data": {
            "text/plain": [
              "(60000,)"
            ]
          },
          "metadata": {},
          "execution_count": 9
        }
      ]
    },
    {
      "cell_type": "markdown",
      "source": [
        "reshape"
      ],
      "metadata": {
        "id": "sFdUlOEWyeO8"
      }
    },
    {
      "cell_type": "code",
      "source": [
        "nsamples, nx, ny = x_train.shape\n",
        "x_train = x_train.reshape((nsamples,nx*ny))"
      ],
      "metadata": {
        "id": "DAQ7bEXItQIj"
      },
      "execution_count": null,
      "outputs": []
    },
    {
      "cell_type": "code",
      "source": [
        "x_train.shape"
      ],
      "metadata": {
        "colab": {
          "base_uri": "https://localhost:8080/"
        },
        "id": "ega6nuywtTBb",
        "outputId": "738975a4-f638-44cc-db5f-47fbf205f1d1"
      },
      "execution_count": null,
      "outputs": [
        {
          "output_type": "execute_result",
          "data": {
            "text/plain": [
              "(60000, 784)"
            ]
          },
          "metadata": {},
          "execution_count": 11
        }
      ]
    },
    {
      "cell_type": "code",
      "source": [
        "x_train = pd.DataFrame(x_train)"
      ],
      "metadata": {
        "id": "GJF_eqVW6G8V"
      },
      "execution_count": null,
      "outputs": []
    },
    {
      "cell_type": "code",
      "source": [
        "x_train = x_train.apply(lambda x: x-x.mean())"
      ],
      "metadata": {
        "id": "Xzvka5b8583N"
      },
      "execution_count": null,
      "outputs": []
    },
    {
      "cell_type": "code",
      "source": [
        "pca = PCA(n_components=52, svd_solver='full')\n",
        "pca.fit(x_train)"
      ],
      "metadata": {
        "colab": {
          "base_uri": "https://localhost:8080/"
        },
        "id": "WXV1wBAv0yB0",
        "outputId": "fd44db13-b602-4df2-d145-4bd35c2a121a"
      },
      "execution_count": null,
      "outputs": [
        {
          "output_type": "execute_result",
          "data": {
            "text/plain": [
              "PCA(n_components=52, svd_solver='full')"
            ]
          },
          "metadata": {},
          "execution_count": 14
        }
      ]
    },
    {
      "cell_type": "code",
      "source": [
        "sum(pca.explained_variance_ratio_)"
      ],
      "metadata": {
        "colab": {
          "base_uri": "https://localhost:8080/"
        },
        "id": "8Wh9yumb01Zl",
        "outputId": "e7eda3ce-1c08-44b4-b295-9a6406ed4c70"
      },
      "execution_count": null,
      "outputs": [
        {
          "output_type": "execute_result",
          "data": {
            "text/plain": [
              "0.830965083231403"
            ]
          },
          "metadata": {},
          "execution_count": 15
        }
      ]
    },
    {
      "cell_type": "code",
      "source": [
        "new = pca.components_.T"
      ],
      "metadata": {
        "id": "6aWIUeARvqPm"
      },
      "execution_count": null,
      "outputs": []
    },
    {
      "cell_type": "code",
      "source": [
        "new.shape"
      ],
      "metadata": {
        "colab": {
          "base_uri": "https://localhost:8080/"
        },
        "id": "NnvL5N215B6x",
        "outputId": "16d7a7d4-f6fb-4700-ea07-65e3b978df8b"
      },
      "execution_count": null,
      "outputs": [
        {
          "output_type": "execute_result",
          "data": {
            "text/plain": [
              "(784, 52)"
            ]
          },
          "metadata": {},
          "execution_count": 17
        }
      ]
    },
    {
      "cell_type": "code",
      "source": [
        "comp = np.round(np.dot(x_train,new))"
      ],
      "metadata": {
        "id": "ASM0M-KV1_CD"
      },
      "execution_count": null,
      "outputs": []
    },
    {
      "cell_type": "code",
      "source": [
        "comp.shape"
      ],
      "metadata": {
        "colab": {
          "base_uri": "https://localhost:8080/"
        },
        "id": "_0XoHl2u5d7a",
        "outputId": "92ceebf9-b034-442d-89b2-52e3ca0a1666"
      },
      "execution_count": null,
      "outputs": [
        {
          "output_type": "execute_result",
          "data": {
            "text/plain": [
              "(60000, 52)"
            ]
          },
          "metadata": {},
          "execution_count": 19
        }
      ]
    },
    {
      "cell_type": "code",
      "source": [
        "y_train.shape"
      ],
      "metadata": {
        "colab": {
          "base_uri": "https://localhost:8080/"
        },
        "id": "-aEYxUui7nwi",
        "outputId": "d1ace218-ed5f-4225-fa94-c9f23ff6e3a7"
      },
      "execution_count": null,
      "outputs": [
        {
          "output_type": "execute_result",
          "data": {
            "text/plain": [
              "(60000,)"
            ]
          },
          "metadata": {},
          "execution_count": 20
        }
      ]
    },
    {
      "cell_type": "code",
      "source": [
        "X_train, X_test, y_train, y_test = train_test_split(comp, y_train, test_size=0.3, random_state=126)"
      ],
      "metadata": {
        "id": "Ou-ogUJRuyy6"
      },
      "execution_count": null,
      "outputs": []
    },
    {
      "cell_type": "code",
      "source": [
        "np.round(X_train[:,0].mean(),3)"
      ],
      "metadata": {
        "colab": {
          "base_uri": "https://localhost:8080/"
        },
        "id": "ogKzk6ly5pNW",
        "outputId": "c5d181a0-85e5-4c48-8dac-1cd29e24d4ea"
      },
      "execution_count": null,
      "outputs": [
        {
          "output_type": "execute_result",
          "data": {
            "text/plain": [
              "0.595"
            ]
          },
          "metadata": {},
          "execution_count": 23
        }
      ]
    },
    {
      "cell_type": "code",
      "source": [
        "from sklearn.ensemble import RandomForestClassifier\n",
        "from sklearn.multiclass import OneVsRestClassifier"
      ],
      "metadata": {
        "id": "3Bf1rsbzwTkW"
      },
      "execution_count": null,
      "outputs": []
    },
    {
      "cell_type": "code",
      "source": [
        "clf = OneVsRestClassifier(RandomForestClassifier(criterion='gini', min_samples_leaf=10, max_depth=20, n_estimators=10, random_state=126)).fit(X_train, y_train)"
      ],
      "metadata": {
        "id": "eI96Lo4Fwdn-"
      },
      "execution_count": null,
      "outputs": []
    },
    {
      "cell_type": "code",
      "source": [
        "clf.score(X_test,y_test)"
      ],
      "metadata": {
        "colab": {
          "base_uri": "https://localhost:8080/"
        },
        "id": "WHRiRG4voJeP",
        "outputId": "04b0d634-93c6-479a-9480-763e7760f617"
      },
      "execution_count": null,
      "outputs": [
        {
          "output_type": "execute_result",
          "data": {
            "text/plain": [
              "0.9187777777777778"
            ]
          },
          "metadata": {},
          "execution_count": 27
        }
      ]
    },
    {
      "cell_type": "code",
      "source": [
        "X_test.shape"
      ],
      "metadata": {
        "colab": {
          "base_uri": "https://localhost:8080/"
        },
        "id": "w5vdL_1Y-Wxs",
        "outputId": "97b5767c-c78f-40c1-8359-057b7218b342"
      },
      "execution_count": null,
      "outputs": [
        {
          "output_type": "execute_result",
          "data": {
            "text/plain": [
              "(18000, 52)"
            ]
          },
          "metadata": {},
          "execution_count": 28
        }
      ]
    },
    {
      "cell_type": "code",
      "source": [
        "pred = clf.predict(X_test)"
      ],
      "metadata": {
        "id": "VmrBkJcs6z_y"
      },
      "execution_count": null,
      "outputs": []
    },
    {
      "cell_type": "code",
      "source": [
        "new_dfd = pd.read_csv('pred_for_task.csv')"
      ],
      "metadata": {
        "id": "KzGaLa8r9Mq_"
      },
      "execution_count": null,
      "outputs": []
    },
    {
      "cell_type": "code",
      "source": [
        "new_df = new_dfd"
      ],
      "metadata": {
        "id": "50NYCwZC917c"
      },
      "execution_count": null,
      "outputs": []
    },
    {
      "cell_type": "code",
      "source": [
        "new_df.shape"
      ],
      "metadata": {
        "colab": {
          "base_uri": "https://localhost:8080/"
        },
        "id": "iOQ_h3fWo-Y0",
        "outputId": "0af35f99-46e2-4d3c-fe0e-278c8368ab03"
      },
      "execution_count": null,
      "outputs": [
        {
          "output_type": "execute_result",
          "data": {
            "text/plain": [
              "(30, 786)"
            ]
          },
          "metadata": {},
          "execution_count": 37
        }
      ]
    },
    {
      "cell_type": "code",
      "source": [
        "new_df.drop(['FileName'],axis=1, inplace=True)"
      ],
      "metadata": {
        "id": "1eUNg6U79Q8W"
      },
      "execution_count": null,
      "outputs": []
    },
    {
      "cell_type": "code",
      "source": [
        "y_val = new_df['Label']\n",
        "X_val = new_df.drop(['Label'],axis=1)"
      ],
      "metadata": {
        "id": "nRXrlZR19hQo"
      },
      "execution_count": null,
      "outputs": []
    },
    {
      "cell_type": "code",
      "source": [
        "X_val.shape"
      ],
      "metadata": {
        "colab": {
          "base_uri": "https://localhost:8080/"
        },
        "id": "RzC67n0t9wM_",
        "outputId": "e290c97e-52d4-4ef6-8840-83465552481c"
      },
      "execution_count": null,
      "outputs": [
        {
          "output_type": "execute_result",
          "data": {
            "text/plain": [
              "(30, 784)"
            ]
          },
          "metadata": {},
          "execution_count": 40
        }
      ]
    },
    {
      "cell_type": "code",
      "source": [
        "X_val_pca = pca.transform(X_val)"
      ],
      "metadata": {
        "id": "Fp5W8e909_t6"
      },
      "execution_count": null,
      "outputs": []
    },
    {
      "cell_type": "code",
      "source": [
        "X_val_pca.shape"
      ],
      "metadata": {
        "colab": {
          "base_uri": "https://localhost:8080/"
        },
        "id": "NpAxWjYn-M_Y",
        "outputId": "6df2cc36-e622-4e1e-a513-6e32082d1905"
      },
      "execution_count": null,
      "outputs": [
        {
          "output_type": "execute_result",
          "data": {
            "text/plain": [
              "(30, 52)"
            ]
          },
          "metadata": {},
          "execution_count": 42
        }
      ]
    },
    {
      "cell_type": "code",
      "source": [
        "pred_val = clf.predict(X_val_pca)"
      ],
      "metadata": {
        "id": "ewJaa77R-Oxo"
      },
      "execution_count": null,
      "outputs": []
    },
    {
      "cell_type": "code",
      "source": [
        "pred_val[19]"
      ],
      "metadata": {
        "colab": {
          "base_uri": "https://localhost:8080/"
        },
        "id": "9pbFcY3-DEat",
        "outputId": "616c9ca4-8704-42ec-87e4-61b4389dbb6f"
      },
      "execution_count": null,
      "outputs": [
        {
          "output_type": "execute_result",
          "data": {
            "text/plain": [
              "4"
            ]
          },
          "metadata": {},
          "execution_count": 44
        }
      ]
    },
    {
      "cell_type": "code",
      "source": [
        "y_pred = clf.predict(X_test)\n",
        "proba = clf.predict_proba([X_test[19]])[0][4]\n",
        "print(f'вероятность: {proba}')"
      ],
      "metadata": {
        "colab": {
          "base_uri": "https://localhost:8080/"
        },
        "id": "wNex5dQuDJM_",
        "outputId": "f8996888-b2dd-4ead-fa39-d7cf95b7694d"
      },
      "execution_count": null,
      "outputs": [
        {
          "output_type": "stream",
          "name": "stdout",
          "text": [
            "вероятность: 0.5051723345937998\n"
          ]
        }
      ]
    },
    {
      "cell_type": "code",
      "source": [
        "from sklearn.metrics import confusion_matrix\n",
        "y_pred = clf.predict(X_test)\n",
        "CM = confusion_matrix(y_test, y_pred)\n",
        "P = 5 #подставить своё значение\n",
        "print(f'Число верно определенных классов {P}: {CM[P][P]}')"
      ],
      "metadata": {
        "colab": {
          "base_uri": "https://localhost:8080/"
        },
        "id": "mhUtCySnvZB2",
        "outputId": "b862982b-f887-485f-c4e9-679caab8c260"
      },
      "execution_count": null,
      "outputs": [
        {
          "output_type": "stream",
          "name": "stdout",
          "text": [
            "Число верно определенных классов 5: 1402\n"
          ]
        }
      ]
    }
  ]
}